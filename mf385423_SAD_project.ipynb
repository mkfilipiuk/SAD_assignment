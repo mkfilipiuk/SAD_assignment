{
 "cells": [
  {
   "cell_type": "markdown",
   "metadata": {},
   "source": [
    "# Michał Filipiuk - 385423\n",
    "## SAD assignment"
   ]
  },
  {
   "cell_type": "markdown",
   "metadata": {},
   "source": [
    "### Imports"
   ]
  },
  {
   "cell_type": "code",
   "execution_count": 114,
   "metadata": {},
   "outputs": [
    {
     "name": "stderr",
     "output_type": "stream",
     "text": [
      "\n",
      "Attaching package: ‘xgboost’\n",
      "\n",
      "The following objects are masked from ‘package:lightgbm’:\n",
      "\n",
      "    getinfo, setinfo, slice\n",
      "\n"
     ]
    }
   ],
   "source": [
    "library(car)\n",
    "library(caret)\n",
    "library(purrr)\n",
    "library(tidyr)\n",
    "library(ggplot2)\n",
    "library(reshape)\n",
    "library(MASS)\n",
    "library(Metrics)\n",
    "library(lightgbm)\n",
    "library(glmnet)\n",
    "library(xgboost)"
   ]
  },
  {
   "cell_type": "markdown",
   "metadata": {},
   "source": [
    "### Loading data"
   ]
  },
  {
   "cell_type": "markdown",
   "metadata": {},
   "source": [
    "#### Cancer data - regression"
   ]
  },
  {
   "cell_type": "code",
   "execution_count": 2,
   "metadata": {},
   "outputs": [],
   "source": [
    "load(\"cancer.RData\")\n",
    "cancer.data.train <- data.train\n",
    "cancer.data.test <- data.test"
   ]
  },
  {
   "cell_type": "markdown",
   "metadata": {},
   "source": [
    "#### Protein - regression"
   ]
  },
  {
   "cell_type": "code",
   "execution_count": 17,
   "metadata": {},
   "outputs": [],
   "source": [
    "load(\"protein.RData\")\n",
    "protein.data.train <- data.frame(data.train)\n",
    "protein.data.test <- data.test"
   ]
  },
  {
   "cell_type": "markdown",
   "metadata": {},
   "source": [
    "### Data preprocessing"
   ]
  },
  {
   "cell_type": "markdown",
   "metadata": {},
   "source": [
    "To analyze which columns are categorical and which are numerical, I will count the percent of unique values for each variable. If number is smaller than 1%, I'll classify it as categorical."
   ]
  },
  {
   "cell_type": "markdown",
   "metadata": {},
   "source": [
    "Cancer"
   ]
  },
  {
   "cell_type": "code",
   "execution_count": 4,
   "metadata": {},
   "outputs": [],
   "source": [
    "cancer.categorical.columns <- colnames(cancer.data.train)[sapply(cancer.data.train, function(x){return(length(unique(x))/nrow(cancer.data.train)*100 < 1)})]"
   ]
  },
  {
   "cell_type": "code",
   "execution_count": 5,
   "metadata": {},
   "outputs": [
    {
     "data": {
      "text/html": [
       "0"
      ],
      "text/latex": [
       "0"
      ],
      "text/markdown": [
       "0"
      ],
      "text/plain": [
       "[1] 0"
      ]
     },
     "metadata": {},
     "output_type": "display_data"
    }
   ],
   "source": [
    "length(cancer.categorical.columns) / ncol(cancer.data.train)"
   ]
  },
  {
   "cell_type": "markdown",
   "metadata": {},
   "source": [
    "Protein"
   ]
  },
  {
   "cell_type": "code",
   "execution_count": 18,
   "metadata": {},
   "outputs": [],
   "source": [
    "protein.categorical.columns <- colnames(protein.data.train)[sapply(protein.data.train, function(x){return(length(unique(x))/nrow(protein.data.train)*100 < 1)})]"
   ]
  },
  {
   "cell_type": "code",
   "execution_count": 19,
   "metadata": {},
   "outputs": [],
   "source": [
    "protein.data.train[protein.categorical.columns]  <- lapply(protein.data.train[protein.categorical.columns] , factor)"
   ]
  },
  {
   "cell_type": "code",
   "execution_count": 8,
   "metadata": {},
   "outputs": [],
   "source": [
    "for(c in protein.categorical.columns){\n",
    "    levels(protein.data.train[,c]) <- c(0,1)\n",
    "}"
   ]
  },
  {
   "cell_type": "code",
   "execution_count": 9,
   "metadata": {},
   "outputs": [
    {
     "data": {
      "text/html": [
       "0.500249875062469"
      ],
      "text/latex": [
       "0.500249875062469"
      ],
      "text/markdown": [
       "0.500249875062469"
      ],
      "text/plain": [
       "[1] 0.5002499"
      ]
     },
     "metadata": {},
     "output_type": "display_data"
    }
   ],
   "source": [
    "length(protein.categorical.columns) / ncol(protein.data.train)"
   ]
  },
  {
   "cell_type": "markdown",
   "metadata": {},
   "source": [
    "As we see, cancer dataset has no categorical variables, while over a half from protein are categorical"
   ]
  },
  {
   "cell_type": "code",
   "execution_count": 10,
   "metadata": {},
   "outputs": [
    {
     "data": {
      "text/html": [
       "0"
      ],
      "text/latex": [
       "0"
      ],
      "text/markdown": [
       "0"
      ],
      "text/plain": [
       "[1] 0"
      ]
     },
     "metadata": {},
     "output_type": "display_data"
    }
   ],
   "source": [
    "sum(is.na(cancer.data.train))"
   ]
  },
  {
   "cell_type": "code",
   "execution_count": 11,
   "metadata": {},
   "outputs": [
    {
     "data": {
      "text/html": [
       "0"
      ],
      "text/latex": [
       "0"
      ],
      "text/markdown": [
       "0"
      ],
      "text/plain": [
       "[1] 0"
      ]
     },
     "metadata": {},
     "output_type": "display_data"
    }
   ],
   "source": [
    "sum(is.na(cancer.data.test))"
   ]
  },
  {
   "cell_type": "code",
   "execution_count": 12,
   "metadata": {},
   "outputs": [
    {
     "data": {
      "text/html": [
       "0"
      ],
      "text/latex": [
       "0"
      ],
      "text/markdown": [
       "0"
      ],
      "text/plain": [
       "[1] 0"
      ]
     },
     "metadata": {},
     "output_type": "display_data"
    }
   ],
   "source": [
    "sum(is.na(protein.data.train))"
   ]
  },
  {
   "cell_type": "code",
   "execution_count": 13,
   "metadata": {},
   "outputs": [
    {
     "data": {
      "text/html": [
       "0"
      ],
      "text/latex": [
       "0"
      ],
      "text/markdown": [
       "0"
      ],
      "text/plain": [
       "[1] 0"
      ]
     },
     "metadata": {},
     "output_type": "display_data"
    }
   ],
   "source": [
    "sum(is.na(protein.data.test))"
   ]
  },
  {
   "cell_type": "markdown",
   "metadata": {},
   "source": [
    "Perfect! Our data has no missing values!"
   ]
  },
  {
   "cell_type": "markdown",
   "metadata": {},
   "source": [
    "### Building model"
   ]
  },
  {
   "cell_type": "code",
   "execution_count": 14,
   "metadata": {},
   "outputs": [],
   "source": [
    "CV = function(formula, model, data, number.of.folds = 5, Y=\"Y\"){\n",
    "    fold.cut <-sample(cut(1:(dim(data)[1]), breaks = number.of.folds, labels = FALSE))\n",
    "    mse.list = vector()\n",
    "    for(i in 1:number.of.folds){\n",
    "        train.data <- data[-(fold.cut == i), ]\n",
    "        test.data <- data[(fold.cut == i), ]\n",
    "        trained.model <- model(formula, data = train.data)\n",
    "        x <- predict(trained.model, newdata = test.data)\n",
    "        mse.list[i] <- mse(test.data$Y, x)    \n",
    "    }\n",
    "    print(mean(mse.list))\n",
    "}"
   ]
  },
  {
   "cell_type": "markdown",
   "metadata": {},
   "source": [
    "#### Protein"
   ]
  },
  {
   "cell_type": "markdown",
   "metadata": {},
   "source": [
    "##### Linear regression"
   ]
  },
  {
   "cell_type": "markdown",
   "metadata": {},
   "source": [
    "Let's take a look at feature importance according to lasso"
   ]
  },
  {
   "cell_type": "code",
   "execution_count": 40,
   "metadata": {},
   "outputs": [],
   "source": [
    "fit = glmnet(as.matrix(protein.data.train[, !names(protein.data.train) %in% c(\"Y\")]), protein.data.train$Y, alpha = 1)"
   ]
  },
  {
   "cell_type": "code",
   "execution_count": 41,
   "metadata": {},
   "outputs": [
    {
     "data": {
      "image/png": "[encoded data removed]",
      "text/plain": [
       "plot without title"
      ]
     },
     "metadata": {},
     "output_type": "display_data"
    }
   ],
   "source": [
    "plot(fit)"
   ]
  },
  {
   "cell_type": "markdown",
   "metadata": {},
   "source": [
    "So we have to take just 5 variables"
   ]
  },
  {
   "cell_type": "code",
   "execution_count": 33,
   "metadata": {},
   "outputs": [
    {
     "data": {
      "text/html": [
       "<table>\n",
       "<thead><tr><th scope=col>name</th><th scope=col>coefficient</th></tr></thead>\n",
       "<tbody>\n",
       "\t<tr><td>(Intercept)</td><td>16.2474851 </td></tr>\n",
       "\t<tr><td>x1623      </td><td> 8.2088786 </td></tr>\n",
       "\t<tr><td>x1764      </td><td> 6.4046415 </td></tr>\n",
       "\t<tr><td>x1028      </td><td> 0.4937093 </td></tr>\n",
       "\t<tr><td>x420       </td><td>-7.1493013 </td></tr>\n",
       "\t<tr><td>x456       </td><td>-2.6098243 </td></tr>\n",
       "</tbody>\n",
       "</table>\n"
      ],
      "text/latex": [
       "\\begin{tabular}{r|ll}\n",
       " name & coefficient\\\\\n",
       "\\hline\n",
       "\t (Intercept) & 16.2474851 \\\\\n",
       "\t x1623       &  8.2088786 \\\\\n",
       "\t x1764       &  6.4046415 \\\\\n",
       "\t x1028       &  0.4937093 \\\\\n",
       "\t x420        & -7.1493013 \\\\\n",
       "\t x456        & -2.6098243 \\\\\n",
       "\\end{tabular}\n"
      ],
      "text/markdown": [
       "\n",
       "| name | coefficient |\n",
       "|---|---|\n",
       "| (Intercept) | 16.2474851  |\n",
       "| x1623       |  8.2088786  |\n",
       "| x1764       |  6.4046415  |\n",
       "| x1028       |  0.4937093  |\n",
       "| x420        | -7.1493013  |\n",
       "| x456        | -2.6098243  |\n",
       "\n"
      ],
      "text/plain": [
       "  name        coefficient\n",
       "1 (Intercept) 16.2474851 \n",
       "2 x1623        8.2088786 \n",
       "3 x1764        6.4046415 \n",
       "4 x1028        0.4937093 \n",
       "5 x420        -7.1493013 \n",
       "6 x456        -2.6098243 "
      ]
     },
     "metadata": {},
     "output_type": "display_data"
    }
   ],
   "source": [
    "tmp_coeffs <- coef(fit, s = fit$lambda[50])\n",
    "data.frame(name = tmp_coeffs@Dimnames[[1]][tmp_coeffs@i + 1], coefficient = tmp_coeffs@x)"
   ]
  },
  {
   "cell_type": "code",
   "execution_count": 37,
   "metadata": {},
   "outputs": [
    {
     "name": "stdout",
     "output_type": "stream",
     "text": [
      "[1] 36.72422\n"
     ]
    }
   ],
   "source": [
    "CV(Y ~ 1 + x1623 + x1764 + x1028 + x420 + x456, data = protein.data.train, model=lm)"
   ]
  },
  {
   "cell_type": "code",
   "execution_count": 145,
   "metadata": {},
   "outputs": [],
   "source": [
    "model.protein.lm = lm(Y ~ 1 + x1623 + x1764 + x1028 + x420 + x456, data = protein.data.train,)"
   ]
  },
  {
   "cell_type": "code",
   "execution_count": 147,
   "metadata": {},
   "outputs": [],
   "source": [
    "best.features.protein <- c(\"x1623\",\"x1764\",\"x1028\",\"x420\",\"x456\")"
   ]
  },
  {
   "cell_type": "markdown",
   "metadata": {},
   "source": [
    "##### XGBoost\n",
    "Let's try now something different"
   ]
  },
  {
   "cell_type": "code",
   "execution_count": 115,
   "metadata": {},
   "outputs": [],
   "source": [
    "model <- train(\n",
    "  Y ~., data = protein.data.train[,c(best.features.protein,\"Y\")], method = \"xgbTree\",\n",
    "  trControl = trainControl(\"cv\", number = 10)\n",
    "  )"
   ]
  },
  {
   "cell_type": "code",
   "execution_count": 135,
   "metadata": {},
   "outputs": [
    {
     "name": "stdout",
     "output_type": "stream",
     "text": [
      "[1]\ttrain-rmse:18.794322+0.168125\ttest-rmse:18.989687+0.803819 \n",
      "[2]\ttrain-rmse:16.066806+0.120374\ttest-rmse:16.505774+0.684960 \n",
      "[3]\ttrain-rmse:13.907464+0.102198\ttest-rmse:14.654388+0.703796 \n",
      "[4]\ttrain-rmse:12.234256+0.116238\ttest-rmse:13.270582+0.704556 \n",
      "[5]\ttrain-rmse:10.914498+0.123643\ttest-rmse:12.237051+0.765119 \n",
      "[6]\ttrain-rmse:9.872320+0.130451\ttest-rmse:11.435853+0.871409 \n",
      "[7]\ttrain-rmse:9.044730+0.143736\ttest-rmse:10.851854+0.976836 \n",
      "[8]\ttrain-rmse:8.337310+0.136046\ttest-rmse:10.335507+1.113273 \n",
      "[9]\ttrain-rmse:7.783666+0.134492\ttest-rmse:9.930953+1.207358 \n",
      "[10]\ttrain-rmse:7.330367+0.109192\ttest-rmse:9.572031+1.282955 \n",
      "[11]\ttrain-rmse:6.947243+0.097803\ttest-rmse:9.237925+1.286784 \n",
      "[12]\ttrain-rmse:6.630570+0.077457\ttest-rmse:9.037792+1.243497 \n",
      "[13]\ttrain-rmse:6.350575+0.073733\ttest-rmse:8.788430+1.245075 \n",
      "[14]\ttrain-rmse:6.130731+0.054878\ttest-rmse:8.594039+1.233636 \n",
      "[15]\ttrain-rmse:5.935820+0.043261\ttest-rmse:8.493125+1.276142 \n",
      "[16]\ttrain-rmse:5.768157+0.054281\ttest-rmse:8.382666+1.283890 \n",
      "[17]\ttrain-rmse:5.624131+0.053474\ttest-rmse:8.295892+1.307950 \n",
      "[18]\ttrain-rmse:5.504853+0.046945\ttest-rmse:8.235047+1.319130 \n",
      "[19]\ttrain-rmse:5.402507+0.049109\ttest-rmse:8.131628+1.296244 \n",
      "[20]\ttrain-rmse:5.300634+0.046398\ttest-rmse:8.067355+1.277582 \n",
      "[21]\ttrain-rmse:5.222191+0.043449\ttest-rmse:8.020356+1.292781 \n",
      "[22]\ttrain-rmse:5.147692+0.042530\ttest-rmse:7.963364+1.266115 \n",
      "[23]\ttrain-rmse:5.081644+0.055270\ttest-rmse:7.921814+1.269055 \n",
      "[24]\ttrain-rmse:5.022504+0.051522\ttest-rmse:7.882581+1.252277 \n",
      "[25]\ttrain-rmse:4.979000+0.050493\ttest-rmse:7.845348+1.231778 \n",
      "[26]\ttrain-rmse:4.923641+0.056437\ttest-rmse:7.824637+1.238076 \n",
      "[27]\ttrain-rmse:4.876705+0.061875\ttest-rmse:7.801316+1.254435 \n",
      "[28]\ttrain-rmse:4.839339+0.061593\ttest-rmse:7.780269+1.242039 \n",
      "[29]\ttrain-rmse:4.805548+0.054323\ttest-rmse:7.756515+1.224359 \n",
      "[30]\ttrain-rmse:4.763593+0.071127\ttest-rmse:7.740753+1.233290 \n",
      "[31]\ttrain-rmse:4.731646+0.067802\ttest-rmse:7.722824+1.238047 \n",
      "[32]\ttrain-rmse:4.706206+0.071634\ttest-rmse:7.712340+1.240997 \n",
      "[33]\ttrain-rmse:4.684266+0.074174\ttest-rmse:7.700464+1.241623 \n",
      "[34]\ttrain-rmse:4.659472+0.073948\ttest-rmse:7.681206+1.233359 \n",
      "[35]\ttrain-rmse:4.641771+0.073829\ttest-rmse:7.666997+1.219400 \n",
      "[36]\ttrain-rmse:4.603120+0.085049\ttest-rmse:7.652210+1.224079 \n",
      "[37]\ttrain-rmse:4.581447+0.076656\ttest-rmse:7.644749+1.215247 \n",
      "[38]\ttrain-rmse:4.563373+0.076426\ttest-rmse:7.637058+1.201749 \n",
      "[39]\ttrain-rmse:4.533703+0.074668\ttest-rmse:7.631664+1.190066 \n",
      "[40]\ttrain-rmse:4.511398+0.077307\ttest-rmse:7.624300+1.199663 \n",
      "[41]\ttrain-rmse:4.495980+0.077574\ttest-rmse:7.621687+1.204063 \n",
      "[42]\ttrain-rmse:4.471567+0.083609\ttest-rmse:7.616667+1.204795 \n",
      "[43]\ttrain-rmse:4.449153+0.090942\ttest-rmse:7.599714+1.201056 \n",
      "[44]\ttrain-rmse:4.425316+0.081989\ttest-rmse:7.603539+1.199932 \n",
      "[45]\ttrain-rmse:4.401956+0.081468\ttest-rmse:7.600729+1.187977 \n",
      "[46]\ttrain-rmse:4.381785+0.080447\ttest-rmse:7.595636+1.189775 \n",
      "[47]\ttrain-rmse:4.366971+0.077638\ttest-rmse:7.593748+1.188790 \n",
      "[48]\ttrain-rmse:4.353339+0.082300\ttest-rmse:7.588008+1.189894 \n",
      "[49]\ttrain-rmse:4.343114+0.080444\ttest-rmse:7.582941+1.184067 \n",
      "[50]\ttrain-rmse:4.323096+0.082301\ttest-rmse:7.580780+1.183665 \n",
      "[51]\ttrain-rmse:4.312246+0.083361\ttest-rmse:7.580947+1.183391 \n",
      "[52]\ttrain-rmse:4.295485+0.080865\ttest-rmse:7.578977+1.183973 \n",
      "[53]\ttrain-rmse:4.272540+0.082840\ttest-rmse:7.574956+1.181818 \n",
      "[54]\ttrain-rmse:4.257896+0.084110\ttest-rmse:7.584293+1.175585 \n",
      "[55]\ttrain-rmse:4.227566+0.088263\ttest-rmse:7.585652+1.182131 \n",
      "[56]\ttrain-rmse:4.212258+0.092505\ttest-rmse:7.580740+1.184825 \n",
      "[57]\ttrain-rmse:4.195292+0.093826\ttest-rmse:7.579206+1.185284 \n",
      "[58]\ttrain-rmse:4.179036+0.090994\ttest-rmse:7.579558+1.186487 \n",
      "[59]\ttrain-rmse:4.160489+0.088132\ttest-rmse:7.580828+1.183785 \n",
      "[60]\ttrain-rmse:4.142162+0.087101\ttest-rmse:7.581473+1.183498 \n",
      "[61]\ttrain-rmse:4.127086+0.086924\ttest-rmse:7.578870+1.180707 \n",
      "[62]\ttrain-rmse:4.107086+0.083575\ttest-rmse:7.575678+1.176277 \n",
      "[63]\ttrain-rmse:4.085203+0.087935\ttest-rmse:7.575417+1.177237 \n",
      "[64]\ttrain-rmse:4.063616+0.091067\ttest-rmse:7.571513+1.177571 \n",
      "[65]\ttrain-rmse:4.036340+0.099320\ttest-rmse:7.568849+1.180427 \n",
      "[66]\ttrain-rmse:4.022642+0.096199\ttest-rmse:7.571777+1.180909 \n",
      "[67]\ttrain-rmse:3.995546+0.085961\ttest-rmse:7.570947+1.178680 \n",
      "[68]\ttrain-rmse:3.972080+0.078332\ttest-rmse:7.567878+1.182200 \n",
      "[69]\ttrain-rmse:3.953935+0.080941\ttest-rmse:7.566231+1.182597 \n",
      "[70]\ttrain-rmse:3.939751+0.080341\ttest-rmse:7.563387+1.184398 \n",
      "[71]\ttrain-rmse:3.923201+0.080009\ttest-rmse:7.569412+1.187267 \n",
      "[72]\ttrain-rmse:3.906667+0.079948\ttest-rmse:7.573103+1.188215 \n",
      "[73]\ttrain-rmse:3.883456+0.085437\ttest-rmse:7.574435+1.191124 \n",
      "[74]\ttrain-rmse:3.853457+0.100636\ttest-rmse:7.579235+1.196342 \n",
      "[75]\ttrain-rmse:3.838344+0.106150\ttest-rmse:7.580766+1.196556 \n",
      "[76]\ttrain-rmse:3.815685+0.115072\ttest-rmse:7.582750+1.196262 \n",
      "[77]\ttrain-rmse:3.802418+0.116124\ttest-rmse:7.580775+1.196695 \n",
      "[78]\ttrain-rmse:3.775601+0.112072\ttest-rmse:7.580999+1.191249 \n",
      "[79]\ttrain-rmse:3.762063+0.110930\ttest-rmse:7.582566+1.195052 \n",
      "[80]\ttrain-rmse:3.741209+0.107794\ttest-rmse:7.585365+1.195700 \n",
      "[81]\ttrain-rmse:3.721409+0.103163\ttest-rmse:7.585373+1.195618 \n",
      "[82]\ttrain-rmse:3.702988+0.096388\ttest-rmse:7.589492+1.193344 \n",
      "[83]\ttrain-rmse:3.679932+0.099435\ttest-rmse:7.591112+1.188579 \n",
      "[84]\ttrain-rmse:3.657844+0.102334\ttest-rmse:7.594734+1.182060 \n",
      "[85]\ttrain-rmse:3.639760+0.097984\ttest-rmse:7.598110+1.184225 \n",
      "[86]\ttrain-rmse:3.623999+0.093220\ttest-rmse:7.596136+1.180109 \n",
      "[87]\ttrain-rmse:3.603463+0.095591\ttest-rmse:7.599034+1.185692 \n",
      "[88]\ttrain-rmse:3.579102+0.097676\ttest-rmse:7.597633+1.183711 \n",
      "[89]\ttrain-rmse:3.553638+0.095415\ttest-rmse:7.597239+1.191757 \n",
      "[90]\ttrain-rmse:3.534192+0.091506\ttest-rmse:7.593828+1.195202 \n",
      "[91]\ttrain-rmse:3.515002+0.098079\ttest-rmse:7.595868+1.198845 \n",
      "[92]\ttrain-rmse:3.505411+0.097516\ttest-rmse:7.593619+1.202022 \n",
      "[93]\ttrain-rmse:3.481216+0.088907\ttest-rmse:7.598015+1.197232 \n",
      "[94]\ttrain-rmse:3.457864+0.088607\ttest-rmse:7.602958+1.200669 \n",
      "[95]\ttrain-rmse:3.444348+0.083355\ttest-rmse:7.606311+1.200239 \n",
      "[96]\ttrain-rmse:3.433135+0.077715\ttest-rmse:7.608514+1.200900 \n",
      "[97]\ttrain-rmse:3.402932+0.075890\ttest-rmse:7.609409+1.199859 \n",
      "[98]\ttrain-rmse:3.388652+0.077654\ttest-rmse:7.611392+1.201684 \n",
      "[99]\ttrain-rmse:3.371436+0.077778\ttest-rmse:7.619343+1.205825 \n",
      "[100]\ttrain-rmse:3.357627+0.079369\ttest-rmse:7.614561+1.209221 \n"
     ]
    }
   ],
   "source": [
    "dtrain <- xgb.DMatrix(data.matrix(protein.data.train[,best.features.protein]), label = protein.data.train[,\"Y\"])\n",
    "cv <- xgb.cv(data = dtrain, nrounds = 100, nthread = 4, nfold = 5, metrics = list(\"rmse\"),\n",
    "                  max_depth = 4, eta = 0.2, lambda = 2, alpha=1, objective = \"reg:linear\")"
   ]
  },
  {
   "cell_type": "markdown",
   "metadata": {},
   "source": [
    "As we see, XGBoost may performs well on train data, but overfits fatally on test set "
   ]
  },
  {
   "cell_type": "markdown",
   "metadata": {},
   "source": [
    "#### Cancer data"
   ]
  },
  {
   "cell_type": "markdown",
   "metadata": {},
   "source": [
    "##### Linear regression with lasso"
   ]
  },
  {
   "cell_type": "code",
   "execution_count": 159,
   "metadata": {},
   "outputs": [],
   "source": [
    "fit = cv.glmnet(data.matrix(cancer.data.train[, !names(cancer.data.train) %in% c(\"Y\")]), cancer.data.train$Y, alpha = 1)"
   ]
  },
  {
   "cell_type": "code",
   "execution_count": 186,
   "metadata": {},
   "outputs": [],
   "source": [
    "small.lambda.index <- which(fit$lambda == fit$lambda.min)"
   ]
  },
  {
   "cell_type": "code",
   "execution_count": 194,
   "metadata": {},
   "outputs": [],
   "source": [
    "tmp_coeffs <- coef(fit, s = fit$lambda[small.lambda.index])\n",
    "selected.features <- tmp_coeffs@Dimnames[[1]][tmp_coeffs@i + 1][-1]"
   ]
  },
  {
   "cell_type": "code",
   "execution_count": 195,
   "metadata": {},
   "outputs": [
    {
     "name": "stdout",
     "output_type": "stream",
     "text": [
      "[1] 0.03315922\n"
     ]
    }
   ],
   "source": [
    "CV(paste(\"Y ~ 1 + \",selected.features,sep = \"\"), data =  cancer.data.train, model=lm)"
   ]
  },
  {
   "cell_type": "markdown",
   "metadata": {},
   "source": [
    "##### PCR with linear regression"
   ]
  },
  {
   "cell_type": "markdown",
   "metadata": {},
   "source": [
    "##### XGBoost"
   ]
  },
  {
   "cell_type": "code",
   "execution_count": 210,
   "metadata": {},
   "outputs": [
    {
     "name": "stdout",
     "output_type": "stream",
     "text": [
      "[1]\ttrain-rmse:0.296343 \n",
      "[2]\ttrain-rmse:0.247918 \n",
      "[3]\ttrain-rmse:0.209511 \n",
      "[4]\ttrain-rmse:0.178922 \n",
      "[5]\ttrain-rmse:0.153549 \n",
      "[6]\ttrain-rmse:0.134065 \n",
      "[7]\ttrain-rmse:0.117401 \n",
      "[8]\ttrain-rmse:0.104807 \n",
      "[9]\ttrain-rmse:0.093778 \n",
      "[10]\ttrain-rmse:0.085120 \n",
      "[11]\ttrain-rmse:0.078758 \n",
      "[12]\ttrain-rmse:0.072711 \n",
      "[13]\ttrain-rmse:0.068180 \n",
      "[14]\ttrain-rmse:0.064158 \n",
      "[15]\ttrain-rmse:0.060501 \n",
      "[16]\ttrain-rmse:0.057103 \n",
      "[17]\ttrain-rmse:0.054107 \n",
      "[18]\ttrain-rmse:0.051496 \n",
      "[19]\ttrain-rmse:0.048939 \n",
      "[20]\ttrain-rmse:0.046724 \n",
      "[21]\ttrain-rmse:0.044850 \n",
      "[22]\ttrain-rmse:0.042987 \n",
      "[23]\ttrain-rmse:0.041353 \n",
      "[24]\ttrain-rmse:0.040044 \n",
      "[25]\ttrain-rmse:0.038507 \n",
      "[26]\ttrain-rmse:0.037220 \n",
      "[27]\ttrain-rmse:0.036082 \n",
      "[28]\ttrain-rmse:0.034912 \n",
      "[29]\ttrain-rmse:0.033821 \n",
      "[30]\ttrain-rmse:0.032815 \n",
      "[31]\ttrain-rmse:0.031896 \n",
      "[32]\ttrain-rmse:0.031080 \n",
      "[33]\ttrain-rmse:0.030207 \n",
      "[34]\ttrain-rmse:0.029579 \n",
      "[35]\ttrain-rmse:0.028747 \n",
      "[36]\ttrain-rmse:0.028138 \n",
      "[37]\ttrain-rmse:0.027528 \n",
      "[38]\ttrain-rmse:0.026901 \n",
      "[39]\ttrain-rmse:0.026336 \n",
      "[40]\ttrain-rmse:0.025837 \n",
      "[41]\ttrain-rmse:0.025345 \n",
      "[42]\ttrain-rmse:0.024850 \n",
      "[43]\ttrain-rmse:0.024335 \n",
      "[44]\ttrain-rmse:0.023928 \n",
      "[45]\ttrain-rmse:0.023928 \n",
      "[46]\ttrain-rmse:0.023928 \n",
      "[47]\ttrain-rmse:0.023928 \n",
      "[48]\ttrain-rmse:0.023928 \n",
      "[49]\ttrain-rmse:0.023928 \n",
      "[50]\ttrain-rmse:0.023928 \n",
      "[51]\ttrain-rmse:0.023928 \n",
      "[52]\ttrain-rmse:0.023928 \n",
      "[53]\ttrain-rmse:0.023928 \n",
      "[54]\ttrain-rmse:0.023928 \n",
      "[55]\ttrain-rmse:0.023928 \n",
      "[56]\ttrain-rmse:0.023928 \n",
      "[57]\ttrain-rmse:0.023928 \n",
      "[58]\ttrain-rmse:0.023928 \n",
      "[59]\ttrain-rmse:0.023928 \n",
      "[60]\ttrain-rmse:0.023928 \n",
      "[61]\ttrain-rmse:0.023928 \n",
      "[62]\ttrain-rmse:0.023928 \n",
      "[63]\ttrain-rmse:0.023928 \n",
      "[64]\ttrain-rmse:0.023928 \n",
      "[65]\ttrain-rmse:0.023928 \n",
      "[66]\ttrain-rmse:0.023928 \n",
      "[67]\ttrain-rmse:0.023928 \n",
      "[68]\ttrain-rmse:0.023928 \n",
      "[69]\ttrain-rmse:0.023928 \n",
      "[70]\ttrain-rmse:0.023928 \n",
      "[71]\ttrain-rmse:0.023928 \n",
      "[72]\ttrain-rmse:0.023928 \n",
      "[73]\ttrain-rmse:0.023928 \n",
      "[74]\ttrain-rmse:0.023928 \n",
      "[75]\ttrain-rmse:0.023928 \n",
      "[76]\ttrain-rmse:0.023928 \n",
      "[77]\ttrain-rmse:0.023928 \n",
      "[78]\ttrain-rmse:0.023928 \n",
      "[79]\ttrain-rmse:0.023928 \n",
      "[80]\ttrain-rmse:0.023928 \n",
      "[81]\ttrain-rmse:0.023928 \n",
      "[82]\ttrain-rmse:0.023928 \n",
      "[83]\ttrain-rmse:0.023928 \n",
      "[84]\ttrain-rmse:0.023928 \n",
      "[85]\ttrain-rmse:0.023928 \n",
      "[86]\ttrain-rmse:0.023928 \n",
      "[87]\ttrain-rmse:0.023928 \n",
      "[88]\ttrain-rmse:0.023928 \n",
      "[89]\ttrain-rmse:0.023928 \n",
      "[90]\ttrain-rmse:0.023928 \n",
      "[91]\ttrain-rmse:0.023928 \n",
      "[92]\ttrain-rmse:0.023928 \n",
      "[93]\ttrain-rmse:0.023928 \n",
      "[94]\ttrain-rmse:0.023928 \n",
      "[95]\ttrain-rmse:0.023928 \n",
      "[96]\ttrain-rmse:0.023928 \n",
      "[97]\ttrain-rmse:0.023928 \n",
      "[98]\ttrain-rmse:0.023928 \n",
      "[99]\ttrain-rmse:0.023928 \n",
      "[100]\ttrain-rmse:0.023928 \n"
     ]
    }
   ],
   "source": [
    "dtrain <- xgb.DMatrix(data.matrix(cancer.data.train[, !names(cancer.data.train) %in% c(\"Y\")]), label = cancer.data.train[,\"Y\"])\n",
    "x <- xgb.importance(model = xgboost(data = dtrain, nrounds = 100, nthread = 4, nfold = 5, metrics = list(\"rmse\"),\n",
    "                  max_depth = 5, eta = 0.2, lambda = 2, alpha=1, objective = \"reg:linear\"))"
   ]
  },
  {
   "cell_type": "code",
   "execution_count": 252,
   "metadata": {},
   "outputs": [],
   "source": [
    "selected.features.for.xgboost <- x[order(Gain, decreasing = T),] [1:110,]$Feature"
   ]
  },
  {
   "cell_type": "code",
   "execution_count": 253,
   "metadata": {},
   "outputs": [
    {
     "name": "stdout",
     "output_type": "stream",
     "text": [
      "[1]\ttrain-rmse:0.298477+0.001881\ttest-rmse:0.301652+0.008873 \n",
      "[2]\ttrain-rmse:0.252106+0.001871\ttest-rmse:0.260532+0.009503 \n",
      "[3]\ttrain-rmse:0.215527+0.001566\ttest-rmse:0.227344+0.008394 \n",
      "[4]\ttrain-rmse:0.186439+0.001616\ttest-rmse:0.202953+0.006911 \n",
      "[5]\ttrain-rmse:0.163576+0.001258\ttest-rmse:0.184932+0.006643 \n",
      "[6]\ttrain-rmse:0.145497+0.001231\ttest-rmse:0.171346+0.007312 \n",
      "[7]\ttrain-rmse:0.131111+0.000669\ttest-rmse:0.160073+0.006992 \n",
      "[8]\ttrain-rmse:0.120332+0.001806\ttest-rmse:0.151891+0.005946 \n",
      "[9]\ttrain-rmse:0.112391+0.001221\ttest-rmse:0.146746+0.005339 \n",
      "[10]\ttrain-rmse:0.106225+0.001520\ttest-rmse:0.142315+0.005076 \n",
      "[11]\ttrain-rmse:0.101604+0.001966\ttest-rmse:0.140158+0.004981 \n",
      "[12]\ttrain-rmse:0.098602+0.001618\ttest-rmse:0.138446+0.005513 \n",
      "[13]\ttrain-rmse:0.095307+0.001380\ttest-rmse:0.137443+0.005586 \n",
      "[14]\ttrain-rmse:0.093233+0.001378\ttest-rmse:0.135949+0.005723 \n",
      "[15]\ttrain-rmse:0.091504+0.001430\ttest-rmse:0.134950+0.005769 \n",
      "[16]\ttrain-rmse:0.091021+0.001205\ttest-rmse:0.134506+0.005906 \n",
      "[17]\ttrain-rmse:0.090228+0.001496\ttest-rmse:0.133999+0.005886 \n",
      "[18]\ttrain-rmse:0.090106+0.001502\ttest-rmse:0.133923+0.005923 \n",
      "[19]\ttrain-rmse:0.090022+0.001505\ttest-rmse:0.133871+0.005955 \n",
      "[20]\ttrain-rmse:0.089964+0.001509\ttest-rmse:0.133835+0.005982 \n",
      "[21]\ttrain-rmse:0.089924+0.001510\ttest-rmse:0.133811+0.006004 \n",
      "[22]\ttrain-rmse:0.089895+0.001511\ttest-rmse:0.133794+0.006023 \n",
      "[23]\ttrain-rmse:0.089875+0.001512\ttest-rmse:0.133782+0.006038 \n",
      "[24]\ttrain-rmse:0.089860+0.001513\ttest-rmse:0.133773+0.006050 \n",
      "[25]\ttrain-rmse:0.089849+0.001514\ttest-rmse:0.133767+0.006060 \n",
      "[26]\ttrain-rmse:0.089841+0.001514\ttest-rmse:0.133763+0.006068 \n",
      "[27]\ttrain-rmse:0.089835+0.001514\ttest-rmse:0.133759+0.006074 \n",
      "[28]\ttrain-rmse:0.089830+0.001514\ttest-rmse:0.133757+0.006080 \n",
      "[29]\ttrain-rmse:0.089827+0.001514\ttest-rmse:0.133755+0.006084 \n",
      "[30]\ttrain-rmse:0.089825+0.001514\ttest-rmse:0.133754+0.006087 \n",
      "[31]\ttrain-rmse:0.089823+0.001514\ttest-rmse:0.133753+0.006090 \n",
      "[32]\ttrain-rmse:0.089821+0.001514\ttest-rmse:0.133752+0.006092 \n",
      "[33]\ttrain-rmse:0.089820+0.001514\ttest-rmse:0.133751+0.006094 \n",
      "[34]\ttrain-rmse:0.089819+0.001514\ttest-rmse:0.133750+0.006096 \n",
      "[35]\ttrain-rmse:0.089818+0.001514\ttest-rmse:0.133750+0.006097 \n",
      "[36]\ttrain-rmse:0.089817+0.001515\ttest-rmse:0.133750+0.006097 \n",
      "[37]\ttrain-rmse:0.089817+0.001514\ttest-rmse:0.133749+0.006098 \n",
      "[38]\ttrain-rmse:0.089816+0.001515\ttest-rmse:0.133749+0.006099 \n",
      "[39]\ttrain-rmse:0.089816+0.001515\ttest-rmse:0.133749+0.006099 \n",
      "[40]\ttrain-rmse:0.089816+0.001515\ttest-rmse:0.133749+0.006100 \n",
      "[41]\ttrain-rmse:0.089816+0.001514\ttest-rmse:0.133749+0.006100 \n",
      "[42]\ttrain-rmse:0.089816+0.001514\ttest-rmse:0.133749+0.006100 \n",
      "[43]\ttrain-rmse:0.089815+0.001515\ttest-rmse:0.133749+0.006101 \n",
      "[44]\ttrain-rmse:0.089815+0.001515\ttest-rmse:0.133749+0.006100 \n",
      "[45]\ttrain-rmse:0.089815+0.001515\ttest-rmse:0.133749+0.006101 \n",
      "[46]\ttrain-rmse:0.089815+0.001515\ttest-rmse:0.133748+0.006101 \n",
      "[47]\ttrain-rmse:0.089815+0.001515\ttest-rmse:0.133748+0.006101 \n",
      "[48]\ttrain-rmse:0.089815+0.001515\ttest-rmse:0.133749+0.006101 \n",
      "[49]\ttrain-rmse:0.089815+0.001515\ttest-rmse:0.133749+0.006101 \n",
      "[50]\ttrain-rmse:0.089815+0.001515\ttest-rmse:0.133749+0.006101 \n",
      "[51]\ttrain-rmse:0.089815+0.001515\ttest-rmse:0.133748+0.006101 \n",
      "[52]\ttrain-rmse:0.089815+0.001515\ttest-rmse:0.133748+0.006101 \n",
      "[53]\ttrain-rmse:0.089815+0.001515\ttest-rmse:0.133748+0.006101 \n",
      "[54]\ttrain-rmse:0.089815+0.001515\ttest-rmse:0.133748+0.006101 \n",
      "[55]\ttrain-rmse:0.089815+0.001515\ttest-rmse:0.133748+0.006101 \n",
      "[56]\ttrain-rmse:0.089815+0.001515\ttest-rmse:0.133749+0.006101 \n",
      "[57]\ttrain-rmse:0.089815+0.001515\ttest-rmse:0.133749+0.006101 \n",
      "[58]\ttrain-rmse:0.089815+0.001515\ttest-rmse:0.133749+0.006101 \n",
      "[59]\ttrain-rmse:0.089815+0.001515\ttest-rmse:0.133749+0.006101 \n",
      "[60]\ttrain-rmse:0.089815+0.001515\ttest-rmse:0.133749+0.006101 \n",
      "[61]\ttrain-rmse:0.089815+0.001515\ttest-rmse:0.133749+0.006101 \n",
      "[62]\ttrain-rmse:0.089815+0.001515\ttest-rmse:0.133749+0.006101 \n",
      "[63]\ttrain-rmse:0.089815+0.001515\ttest-rmse:0.133749+0.006101 \n",
      "[64]\ttrain-rmse:0.089815+0.001515\ttest-rmse:0.133749+0.006101 \n",
      "[65]\ttrain-rmse:0.089815+0.001515\ttest-rmse:0.133749+0.006101 \n",
      "[66]\ttrain-rmse:0.089815+0.001515\ttest-rmse:0.133749+0.006101 \n",
      "[67]\ttrain-rmse:0.089815+0.001515\ttest-rmse:0.133749+0.006101 \n",
      "[68]\ttrain-rmse:0.089815+0.001515\ttest-rmse:0.133749+0.006101 \n",
      "[69]\ttrain-rmse:0.089815+0.001515\ttest-rmse:0.133749+0.006101 \n",
      "[70]\ttrain-rmse:0.089815+0.001515\ttest-rmse:0.133749+0.006101 \n",
      "[71]\ttrain-rmse:0.089815+0.001515\ttest-rmse:0.133749+0.006101 \n",
      "[72]\ttrain-rmse:0.089815+0.001515\ttest-rmse:0.133749+0.006101 \n",
      "[73]\ttrain-rmse:0.089815+0.001515\ttest-rmse:0.133749+0.006101 \n",
      "[74]\ttrain-rmse:0.089815+0.001515\ttest-rmse:0.133749+0.006101 \n",
      "[75]\ttrain-rmse:0.089815+0.001515\ttest-rmse:0.133749+0.006101 \n",
      "[76]\ttrain-rmse:0.089815+0.001515\ttest-rmse:0.133749+0.006101 \n",
      "[77]\ttrain-rmse:0.089815+0.001515\ttest-rmse:0.133749+0.006101 \n",
      "[78]\ttrain-rmse:0.089815+0.001515\ttest-rmse:0.133749+0.006101 \n",
      "[79]\ttrain-rmse:0.089815+0.001515\ttest-rmse:0.133749+0.006101 \n",
      "[80]\ttrain-rmse:0.089815+0.001515\ttest-rmse:0.133749+0.006101 \n",
      "[81]\ttrain-rmse:0.089815+0.001515\ttest-rmse:0.133749+0.006101 \n",
      "[82]\ttrain-rmse:0.089815+0.001515\ttest-rmse:0.133749+0.006101 \n",
      "[83]\ttrain-rmse:0.089815+0.001515\ttest-rmse:0.133749+0.006101 \n",
      "[84]\ttrain-rmse:0.089815+0.001515\ttest-rmse:0.133749+0.006101 \n",
      "[85]\ttrain-rmse:0.089815+0.001515\ttest-rmse:0.133749+0.006101 \n",
      "[86]\ttrain-rmse:0.089815+0.001515\ttest-rmse:0.133749+0.006101 \n",
      "[87]\ttrain-rmse:0.089815+0.001515\ttest-rmse:0.133749+0.006101 \n",
      "[88]\ttrain-rmse:0.089815+0.001515\ttest-rmse:0.133749+0.006101 \n",
      "[89]\ttrain-rmse:0.089815+0.001515\ttest-rmse:0.133749+0.006101 \n",
      "[90]\ttrain-rmse:0.089815+0.001515\ttest-rmse:0.133749+0.006101 \n",
      "[91]\ttrain-rmse:0.089815+0.001515\ttest-rmse:0.133749+0.006101 \n",
      "[92]\ttrain-rmse:0.089815+0.001515\ttest-rmse:0.133749+0.006101 \n",
      "[93]\ttrain-rmse:0.089815+0.001515\ttest-rmse:0.133749+0.006101 \n",
      "[94]\ttrain-rmse:0.089815+0.001515\ttest-rmse:0.133749+0.006101 \n",
      "[95]\ttrain-rmse:0.089815+0.001515\ttest-rmse:0.133749+0.006101 \n",
      "[96]\ttrain-rmse:0.089815+0.001515\ttest-rmse:0.133749+0.006101 \n",
      "[97]\ttrain-rmse:0.089815+0.001515\ttest-rmse:0.133749+0.006101 \n",
      "[98]\ttrain-rmse:0.089815+0.001515\ttest-rmse:0.133749+0.006101 \n",
      "[99]\ttrain-rmse:0.089815+0.001515\ttest-rmse:0.133749+0.006101 \n",
      "[100]\ttrain-rmse:0.089815+0.001515\ttest-rmse:0.133749+0.006101 \n"
     ]
    }
   ],
   "source": [
    "dtrain <- xgb.DMatrix(data.matrix(cancer.data.train[, selected.features.for.xgboost]), label = cancer.data.train[,\"Y\"])\n",
    "cv <- xgb.cv(data = dtrain, nrounds = 100, nthread = 4, nfold = 5, metrics = list(\"rmse\"),\n",
    "                  max_depth = 4, eta = 0.2, lambda = 2, alpha=1, objective = \"reg:linear\", gamma=0.1)"
   ]
  },
  {
   "cell_type": "markdown",
   "metadata": {},
   "source": [
    "### Analyzing most important variables"
   ]
  },
  {
   "cell_type": "markdown",
   "metadata": {},
   "source": [
    "#### Protein"
   ]
  },
  {
   "cell_type": "markdown",
   "metadata": {},
   "source": [
    "##### Vif"
   ]
  },
  {
   "cell_type": "markdown",
   "metadata": {},
   "source": [
    "#### Cancer"
   ]
  },
  {
   "cell_type": "markdown",
   "metadata": {},
   "source": [
    "##### Vif"
   ]
  },
  {
   "cell_type": "markdown",
   "metadata": {},
   "source": [
    "### Saving data"
   ]
  },
  {
   "cell_type": "code",
   "execution_count": null,
   "metadata": {
    "scrolled": false
   },
   "outputs": [],
   "source": [
    "stepAIC(lm(Y ~ 1, data = protein.data.train), direction = \"forward\", scope=list(upper=lm(Y ~ ., data = protein.data.train),lower=lm(Y ~ 1, data = protein.data.train)), trace = 2)"
   ]
  },
  {
   "cell_type": "code",
   "execution_count": null,
   "metadata": {},
   "outputs": [],
   "source": [
    "stepAIC(lm(Y ~ 1, data = protein.data.train), direction = \"forward\", scope=list(upper=lm(Y ~ ., data = protein.data.train),lower=lm(Y ~ 1, data = protein.data.train)), trace = 2, k=log(nrow(protein.data.train)))"
   ]
  },
  {
   "cell_type": "code",
   "execution_count": null,
   "metadata": {},
   "outputs": [],
   "source": [
    "model = lm(Y ~ x1623 + x420 + x1764 + x456 + x1028 + x1868 + x1756 + x1104 + \n",
    "    x410 + x1064 + x223 + x289 + x1027 + x497 + x1894 + x676 + \n",
    "    x1200 + x686 + x1316 + x1789 + x1934 + x1559 + x1683 + x996 + \n",
    "    x1418 + x1102 + x1109 + x1745 + x1946 + x148 + x843 + x928 + \n",
    "    x457 + x1860 + x1019 + x1443 + x1536 + x458 + x1979 + x737 + \n",
    "    x212 + x1943 + x1219 + x535 + x91, data = protein.data.train)"
   ]
  },
  {
   "cell_type": "code",
   "execution_count": null,
   "metadata": {},
   "outputs": [],
   "source": [
    "summary(model)"
   ]
  },
  {
   "cell_type": "code",
   "execution_count": null,
   "metadata": {},
   "outputs": [],
   "source": []
  },
  {
   "cell_type": "code",
   "execution_count": null,
   "metadata": {},
   "outputs": [],
   "source": []
  },
  {
   "cell_type": "code",
   "execution_count": null,
   "metadata": {},
   "outputs": [],
   "source": []
  },
  {
   "cell_type": "code",
   "execution_count": null,
   "metadata": {},
   "outputs": [],
   "source": []
  },
  {
   "cell_type": "code",
   "execution_count": null,
   "metadata": {},
   "outputs": [],
   "source": []
  },
  {
   "cell_type": "code",
   "execution_count": null,
   "metadata": {},
   "outputs": [],
   "source": []
  },
  {
   "cell_type": "code",
   "execution_count": null,
   "metadata": {},
   "outputs": [],
   "source": []
  },
  {
   "cell_type": "code",
   "execution_count": null,
   "metadata": {},
   "outputs": [],
   "source": [
    "vif(lm(Y ~ ., data = protein.data.train))"
   ]
  },
  {
   "cell_type": "code",
   "execution_count": null,
   "metadata": {},
   "outputs": [],
   "source": [
    "x <- alias(lm(Y ~ ., data = protein.data.train))"
   ]
  },
  {
   "cell_type": "code",
   "execution_count": null,
   "metadata": {},
   "outputs": [],
   "source": [
    "typeof(x$Complete)"
   ]
  },
  {
   "cell_type": "code",
   "execution_count": null,
   "metadata": {},
   "outputs": [],
   "source": [
    "x.complete <- x$Complete"
   ]
  },
  {
   "cell_type": "code",
   "execution_count": null,
   "metadata": {},
   "outputs": [],
   "source": [
    "?alias"
   ]
  },
  {
   "cell_type": "code",
   "execution_count": null,
   "metadata": {},
   "outputs": [],
   "source": [
    "sort(rownames(x.complete))"
   ]
  },
  {
   "cell_type": "code",
   "execution_count": null,
   "metadata": {},
   "outputs": [],
   "source": [
    "sort(colnames(x.complete))"
   ]
  },
  {
   "cell_type": "code",
   "execution_count": null,
   "metadata": {},
   "outputs": [],
   "source": [
    "length(intersect(colnames(protein.data.train),rownames(x.complete)))"
   ]
  },
  {
   "cell_type": "code",
   "execution_count": null,
   "metadata": {},
   "outputs": [],
   "source": [
    "length(rownames(x.complete))"
   ]
  },
  {
   "cell_type": "code",
   "execution_count": null,
   "metadata": {},
   "outputs": [],
   "source": [
    "? cast"
   ]
  },
  {
   "cell_type": "code",
   "execution_count": null,
   "metadata": {},
   "outputs": [],
   "source": [
    "? stepAIC"
   ]
  },
  {
   "cell_type": "code",
   "execution_count": 89,
   "metadata": {},
   "outputs": [],
   "source": [
    "?lightgbm"
   ]
  },
  {
   "cell_type": "code",
   "execution_count": null,
   "metadata": {},
   "outputs": [],
   "source": []
  }
 ],
 "metadata": {
  "kernelspec": {
   "display_name": "R",
   "language": "R",
   "name": "ir"
  },
  "language_info": {
   "codemirror_mode": "r",
   "file_extension": ".r",
   "mimetype": "text/x-r-source",
   "name": "R",
   "pygments_lexer": "r",
   "version": "3.6.0"
  }
 },
 "nbformat": 4,
 "nbformat_minor": 2
}
