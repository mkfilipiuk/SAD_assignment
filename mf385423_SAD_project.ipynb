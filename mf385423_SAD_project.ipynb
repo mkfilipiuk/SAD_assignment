{
 "cells": [
  {
   "cell_type": "markdown",
   "metadata": {},
   "source": [
    "# Michał Filipiuk - 385423\n",
    "## SAD assignment"
   ]
  },
  {
   "cell_type": "markdown",
   "metadata": {},
   "source": [
    "### Imports"
   ]
  },
  {
   "cell_type": "code",
   "execution_count": 28,
   "metadata": {},
   "outputs": [
    {
     "name": "stderr",
     "output_type": "stream",
     "text": [
      "Loading required package: pls\n",
      "\n",
      "Attaching package: ‘pls’\n",
      "\n",
      "The following objects are masked from ‘package:analogue’:\n",
      "\n",
      "    crossval, pcr, RMSEP\n",
      "\n",
      "The following object is masked from ‘package:vegan’:\n",
      "\n",
      "    scores\n",
      "\n",
      "The following object is masked from ‘package:caret’:\n",
      "\n",
      "    R2\n",
      "\n",
      "The following object is masked from ‘package:stats’:\n",
      "\n",
      "    loadings\n",
      "\n"
     ]
    }
   ],
   "source": [
    "library(car)\n",
    "library(caret)\n",
    "library(purrr)\n",
    "library(tidyr)\n",
    "library(ggplot2)\n",
    "library(reshape)\n",
    "library(MASS)\n",
    "library(Metrics)\n",
    "library(lightgbm)\n",
    "library(glmnet)\n",
    "library(xgboost)\n",
    "require(pls)"
   ]
  },
  {
   "cell_type": "markdown",
   "metadata": {},
   "source": [
    "### Loading data"
   ]
  },
  {
   "cell_type": "markdown",
   "metadata": {},
   "source": [
    "#### Cancer data - regression"
   ]
  },
  {
   "cell_type": "code",
   "execution_count": 2,
   "metadata": {},
   "outputs": [],
   "source": [
    "load(\"cancer.RData\")\n",
    "cancer.data.train <- data.train\n",
    "cancer.data.test <- data.test"
   ]
  },
  {
   "cell_type": "markdown",
   "metadata": {},
   "source": [
    "#### Protein - regression"
   ]
  },
  {
   "cell_type": "code",
   "execution_count": 3,
   "metadata": {},
   "outputs": [],
   "source": [
    "load(\"protein.RData\")\n",
    "protein.data.train <- data.frame(data.train)\n",
    "protein.data.test <- data.test"
   ]
  },
  {
   "cell_type": "markdown",
   "metadata": {},
   "source": [
    "### Data preprocessing"
   ]
  },
  {
   "cell_type": "markdown",
   "metadata": {},
   "source": [
    "To analyze which columns are categorical and which are numerical, I will count the percent of unique values for each variable. If number is smaller than 1%, I'll classify it as categorical."
   ]
  },
  {
   "cell_type": "markdown",
   "metadata": {},
   "source": [
    "Cancer"
   ]
  },
  {
   "cell_type": "code",
   "execution_count": 4,
   "metadata": {},
   "outputs": [],
   "source": [
    "cancer.categorical.columns <- colnames(cancer.data.train)[sapply(cancer.data.train, function(x){return(length(unique(x))/nrow(cancer.data.train)*100 < 1)})]"
   ]
  },
  {
   "cell_type": "code",
   "execution_count": 5,
   "metadata": {},
   "outputs": [
    {
     "data": {
      "text/html": [
       "0"
      ],
      "text/latex": [
       "0"
      ],
      "text/markdown": [
       "0"
      ],
      "text/plain": [
       "[1] 0"
      ]
     },
     "metadata": {},
     "output_type": "display_data"
    }
   ],
   "source": [
    "length(cancer.categorical.columns) / ncol(cancer.data.train)"
   ]
  },
  {
   "cell_type": "markdown",
   "metadata": {},
   "source": [
    "Protein"
   ]
  },
  {
   "cell_type": "code",
   "execution_count": 6,
   "metadata": {},
   "outputs": [],
   "source": [
    "protein.categorical.columns <- colnames(protein.data.train)[sapply(protein.data.train, function(x){return(length(unique(x))/nrow(protein.data.train)*100 < 1)})]"
   ]
  },
  {
   "cell_type": "code",
   "execution_count": 7,
   "metadata": {},
   "outputs": [],
   "source": [
    "protein.data.train[protein.categorical.columns]  <- lapply(protein.data.train[protein.categorical.columns] , factor)"
   ]
  },
  {
   "cell_type": "code",
   "execution_count": 8,
   "metadata": {},
   "outputs": [],
   "source": [
    "for(c in protein.categorical.columns){\n",
    "    levels(protein.data.train[,c]) <- c(0,1)\n",
    "}"
   ]
  },
  {
   "cell_type": "code",
   "execution_count": 9,
   "metadata": {},
   "outputs": [
    {
     "data": {
      "text/html": [
       "0.500249875062469"
      ],
      "text/latex": [
       "0.500249875062469"
      ],
      "text/markdown": [
       "0.500249875062469"
      ],
      "text/plain": [
       "[1] 0.5002499"
      ]
     },
     "metadata": {},
     "output_type": "display_data"
    }
   ],
   "source": [
    "length(protein.categorical.columns) / ncol(protein.data.train)"
   ]
  },
  {
   "cell_type": "markdown",
   "metadata": {},
   "source": [
    "As we see, cancer dataset has no categorical variables, while over a half from protein are categorical"
   ]
  },
  {
   "cell_type": "code",
   "execution_count": 10,
   "metadata": {},
   "outputs": [
    {
     "data": {
      "text/html": [
       "0"
      ],
      "text/latex": [
       "0"
      ],
      "text/markdown": [
       "0"
      ],
      "text/plain": [
       "[1] 0"
      ]
     },
     "metadata": {},
     "output_type": "display_data"
    }
   ],
   "source": [
    "sum(is.na(cancer.data.train))"
   ]
  },
  {
   "cell_type": "code",
   "execution_count": 11,
   "metadata": {},
   "outputs": [
    {
     "data": {
      "text/html": [
       "0"
      ],
      "text/latex": [
       "0"
      ],
      "text/markdown": [
       "0"
      ],
      "text/plain": [
       "[1] 0"
      ]
     },
     "metadata": {},
     "output_type": "display_data"
    }
   ],
   "source": [
    "sum(is.na(cancer.data.test))"
   ]
  },
  {
   "cell_type": "code",
   "execution_count": 12,
   "metadata": {},
   "outputs": [
    {
     "data": {
      "text/html": [
       "0"
      ],
      "text/latex": [
       "0"
      ],
      "text/markdown": [
       "0"
      ],
      "text/plain": [
       "[1] 0"
      ]
     },
     "metadata": {},
     "output_type": "display_data"
    }
   ],
   "source": [
    "sum(is.na(protein.data.train))"
   ]
  },
  {
   "cell_type": "code",
   "execution_count": 13,
   "metadata": {},
   "outputs": [
    {
     "data": {
      "text/html": [
       "0"
      ],
      "text/latex": [
       "0"
      ],
      "text/markdown": [
       "0"
      ],
      "text/plain": [
       "[1] 0"
      ]
     },
     "metadata": {},
     "output_type": "display_data"
    }
   ],
   "source": [
    "sum(is.na(protein.data.test))"
   ]
  },
  {
   "cell_type": "markdown",
   "metadata": {},
   "source": [
    "Perfect! Our data has no missing values!"
   ]
  },
  {
   "cell_type": "markdown",
   "metadata": {},
   "source": [
    "### Building model"
   ]
  },
  {
   "cell_type": "code",
   "execution_count": 14,
   "metadata": {},
   "outputs": [],
   "source": [
    "CV = function(formula, model, data, number.of.folds = 5, Y=\"Y\"){\n",
    "    fold.cut <-sample(cut(1:(dim(data)[1]), breaks = number.of.folds, labels = FALSE))\n",
    "    mse.list = vector()\n",
    "    for(i in 1:number.of.folds){\n",
    "        train.data <- data[-(fold.cut == i), ]\n",
    "        test.data <- data[(fold.cut == i), ]\n",
    "        trained.model <- model(formula, data = train.data)\n",
    "        x <- predict(trained.model, newdata = test.data)\n",
    "        mse.list[i] <- mse(test.data$Y, x)    \n",
    "    }\n",
    "    print(mean(mse.list))\n",
    "}"
   ]
  },
  {
   "cell_type": "markdown",
   "metadata": {},
   "source": [
    "#### Protein"
   ]
  },
  {
   "cell_type": "markdown",
   "metadata": {},
   "source": [
    "##### Linear regression"
   ]
  },
  {
   "cell_type": "markdown",
   "metadata": {},
   "source": [
    "Let's take a look at feature importance according to lasso"
   ]
  },
  {
   "cell_type": "code",
   "execution_count": 40,
   "metadata": {},
   "outputs": [],
   "source": [
    "fit = glmnet(as.matrix(protein.data.train[, !names(protein.data.train) %in% c(\"Y\")]), protein.data.train$Y, alpha = 1)"
   ]
  },
  {
   "cell_type": "code",
   "execution_count": 41,
   "metadata": {},
   "outputs": [
    {
     "data": {
      "image/png": "[encoded data removed]",
      "text/plain": [
       "plot without title"
      ]
     },
     "metadata": {},
     "output_type": "display_data"
    }
   ],
   "source": [
    "plot(fit)"
   ]
  },
  {
   "cell_type": "markdown",
   "metadata": {},
   "source": [
    "So we have to take just 5 variables"
   ]
  },
  {
   "cell_type": "code",
   "execution_count": 33,
   "metadata": {},
   "outputs": [
    {
     "data": {
      "text/html": [
       "<table>\n",
       "<thead><tr><th scope=col>name</th><th scope=col>coefficient</th></tr></thead>\n",
       "<tbody>\n",
       "\t<tr><td>(Intercept)</td><td>16.2474851 </td></tr>\n",
       "\t<tr><td>x1623      </td><td> 8.2088786 </td></tr>\n",
       "\t<tr><td>x1764      </td><td> 6.4046415 </td></tr>\n",
       "\t<tr><td>x1028      </td><td> 0.4937093 </td></tr>\n",
       "\t<tr><td>x420       </td><td>-7.1493013 </td></tr>\n",
       "\t<tr><td>x456       </td><td>-2.6098243 </td></tr>\n",
       "</tbody>\n",
       "</table>\n"
      ],
      "text/latex": [
       "\\begin{tabular}{r|ll}\n",
       " name & coefficient\\\\\n",
       "\\hline\n",
       "\t (Intercept) & 16.2474851 \\\\\n",
       "\t x1623       &  8.2088786 \\\\\n",
       "\t x1764       &  6.4046415 \\\\\n",
       "\t x1028       &  0.4937093 \\\\\n",
       "\t x420        & -7.1493013 \\\\\n",
       "\t x456        & -2.6098243 \\\\\n",
       "\\end{tabular}\n"
      ],
      "text/markdown": [
       "\n",
       "| name | coefficient |\n",
       "|---|---|\n",
       "| (Intercept) | 16.2474851  |\n",
       "| x1623       |  8.2088786  |\n",
       "| x1764       |  6.4046415  |\n",
       "| x1028       |  0.4937093  |\n",
       "| x420        | -7.1493013  |\n",
       "| x456        | -2.6098243  |\n",
       "\n"
      ],
      "text/plain": [
       "  name        coefficient\n",
       "1 (Intercept) 16.2474851 \n",
       "2 x1623        8.2088786 \n",
       "3 x1764        6.4046415 \n",
       "4 x1028        0.4937093 \n",
       "5 x420        -7.1493013 \n",
       "6 x456        -2.6098243 "
      ]
     },
     "metadata": {},
     "output_type": "display_data"
    }
   ],
   "source": [
    "tmp_coeffs <- coef(fit, s = fit$lambda[50])\n",
    "data.frame(name = tmp_coeffs@Dimnames[[1]][tmp_coeffs@i + 1], coefficient = tmp_coeffs@x)"
   ]
  },
  {
   "cell_type": "code",
   "execution_count": 37,
   "metadata": {},
   "outputs": [
    {
     "name": "stdout",
     "output_type": "stream",
     "text": [
      "[1] 36.72422\n"
     ]
    }
   ],
   "source": [
    "CV(Y ~ 1 + x1623 + x1764 + x1028 + x420 + x456, data = protein.data.train, model=lm)"
   ]
  },
  {
   "cell_type": "code",
   "execution_count": 145,
   "metadata": {},
   "outputs": [],
   "source": [
    "model.protein.lm = lm(Y ~ 1 + x1623 + x1764 + x1028 + x420 + x456, data = protein.data.train,)"
   ]
  },
  {
   "cell_type": "code",
   "execution_count": 147,
   "metadata": {},
   "outputs": [],
   "source": [
    "best.features.protein <- c(\"x1623\",\"x1764\",\"x1028\",\"x420\",\"x456\")"
   ]
  },
  {
   "cell_type": "markdown",
   "metadata": {},
   "source": [
    "##### XGBoost\n",
    "Let's try now something different"
   ]
  },
  {
   "cell_type": "code",
   "execution_count": 115,
   "metadata": {},
   "outputs": [],
   "source": [
    "model <- train(\n",
    "  Y ~., data = protein.data.train[,c(best.features.protein,\"Y\")], method = \"xgbTree\",\n",
    "  trControl = trainControl(\"cv\", number = 10)\n",
    "  )"
   ]
  },
  {
   "cell_type": "code",
   "execution_count": 135,
   "metadata": {},
   "outputs": [
    {
     "name": "stdout",
     "output_type": "stream",
     "text": [
      "[1]\ttrain-rmse:18.794322+0.168125\ttest-rmse:18.989687+0.803819 \n",
      "[2]\ttrain-rmse:16.066806+0.120374\ttest-rmse:16.505774+0.684960 \n",
      "[3]\ttrain-rmse:13.907464+0.102198\ttest-rmse:14.654388+0.703796 \n",
      "[4]\ttrain-rmse:12.234256+0.116238\ttest-rmse:13.270582+0.704556 \n",
      "[5]\ttrain-rmse:10.914498+0.123643\ttest-rmse:12.237051+0.765119 \n",
      "[6]\ttrain-rmse:9.872320+0.130451\ttest-rmse:11.435853+0.871409 \n",
      "[7]\ttrain-rmse:9.044730+0.143736\ttest-rmse:10.851854+0.976836 \n",
      "[8]\ttrain-rmse:8.337310+0.136046\ttest-rmse:10.335507+1.113273 \n",
      "[9]\ttrain-rmse:7.783666+0.134492\ttest-rmse:9.930953+1.207358 \n",
      "[10]\ttrain-rmse:7.330367+0.109192\ttest-rmse:9.572031+1.282955 \n",
      "[11]\ttrain-rmse:6.947243+0.097803\ttest-rmse:9.237925+1.286784 \n",
      "[12]\ttrain-rmse:6.630570+0.077457\ttest-rmse:9.037792+1.243497 \n",
      "[13]\ttrain-rmse:6.350575+0.073733\ttest-rmse:8.788430+1.245075 \n",
      "[14]\ttrain-rmse:6.130731+0.054878\ttest-rmse:8.594039+1.233636 \n",
      "[15]\ttrain-rmse:5.935820+0.043261\ttest-rmse:8.493125+1.276142 \n",
      "[16]\ttrain-rmse:5.768157+0.054281\ttest-rmse:8.382666+1.283890 \n",
      "[17]\ttrain-rmse:5.624131+0.053474\ttest-rmse:8.295892+1.307950 \n",
      "[18]\ttrain-rmse:5.504853+0.046945\ttest-rmse:8.235047+1.319130 \n",
      "[19]\ttrain-rmse:5.402507+0.049109\ttest-rmse:8.131628+1.296244 \n",
      "[20]\ttrain-rmse:5.300634+0.046398\ttest-rmse:8.067355+1.277582 \n",
      "[21]\ttrain-rmse:5.222191+0.043449\ttest-rmse:8.020356+1.292781 \n",
      "[22]\ttrain-rmse:5.147692+0.042530\ttest-rmse:7.963364+1.266115 \n",
      "[23]\ttrain-rmse:5.081644+0.055270\ttest-rmse:7.921814+1.269055 \n",
      "[24]\ttrain-rmse:5.022504+0.051522\ttest-rmse:7.882581+1.252277 \n",
      "[25]\ttrain-rmse:4.979000+0.050493\ttest-rmse:7.845348+1.231778 \n",
      "[26]\ttrain-rmse:4.923641+0.056437\ttest-rmse:7.824637+1.238076 \n",
      "[27]\ttrain-rmse:4.876705+0.061875\ttest-rmse:7.801316+1.254435 \n",
      "[28]\ttrain-rmse:4.839339+0.061593\ttest-rmse:7.780269+1.242039 \n",
      "[29]\ttrain-rmse:4.805548+0.054323\ttest-rmse:7.756515+1.224359 \n",
      "[30]\ttrain-rmse:4.763593+0.071127\ttest-rmse:7.740753+1.233290 \n",
      "[31]\ttrain-rmse:4.731646+0.067802\ttest-rmse:7.722824+1.238047 \n",
      "[32]\ttrain-rmse:4.706206+0.071634\ttest-rmse:7.712340+1.240997 \n",
      "[33]\ttrain-rmse:4.684266+0.074174\ttest-rmse:7.700464+1.241623 \n",
      "[34]\ttrain-rmse:4.659472+0.073948\ttest-rmse:7.681206+1.233359 \n",
      "[35]\ttrain-rmse:4.641771+0.073829\ttest-rmse:7.666997+1.219400 \n",
      "[36]\ttrain-rmse:4.603120+0.085049\ttest-rmse:7.652210+1.224079 \n",
      "[37]\ttrain-rmse:4.581447+0.076656\ttest-rmse:7.644749+1.215247 \n",
      "[38]\ttrain-rmse:4.563373+0.076426\ttest-rmse:7.637058+1.201749 \n",
      "[39]\ttrain-rmse:4.533703+0.074668\ttest-rmse:7.631664+1.190066 \n",
      "[40]\ttrain-rmse:4.511398+0.077307\ttest-rmse:7.624300+1.199663 \n",
      "[41]\ttrain-rmse:4.495980+0.077574\ttest-rmse:7.621687+1.204063 \n",
      "[42]\ttrain-rmse:4.471567+0.083609\ttest-rmse:7.616667+1.204795 \n",
      "[43]\ttrain-rmse:4.449153+0.090942\ttest-rmse:7.599714+1.201056 \n",
      "[44]\ttrain-rmse:4.425316+0.081989\ttest-rmse:7.603539+1.199932 \n",
      "[45]\ttrain-rmse:4.401956+0.081468\ttest-rmse:7.600729+1.187977 \n",
      "[46]\ttrain-rmse:4.381785+0.080447\ttest-rmse:7.595636+1.189775 \n",
      "[47]\ttrain-rmse:4.366971+0.077638\ttest-rmse:7.593748+1.188790 \n",
      "[48]\ttrain-rmse:4.353339+0.082300\ttest-rmse:7.588008+1.189894 \n",
      "[49]\ttrain-rmse:4.343114+0.080444\ttest-rmse:7.582941+1.184067 \n",
      "[50]\ttrain-rmse:4.323096+0.082301\ttest-rmse:7.580780+1.183665 \n",
      "[51]\ttrain-rmse:4.312246+0.083361\ttest-rmse:7.580947+1.183391 \n",
      "[52]\ttrain-rmse:4.295485+0.080865\ttest-rmse:7.578977+1.183973 \n",
      "[53]\ttrain-rmse:4.272540+0.082840\ttest-rmse:7.574956+1.181818 \n",
      "[54]\ttrain-rmse:4.257896+0.084110\ttest-rmse:7.584293+1.175585 \n",
      "[55]\ttrain-rmse:4.227566+0.088263\ttest-rmse:7.585652+1.182131 \n",
      "[56]\ttrain-rmse:4.212258+0.092505\ttest-rmse:7.580740+1.184825 \n",
      "[57]\ttrain-rmse:4.195292+0.093826\ttest-rmse:7.579206+1.185284 \n",
      "[58]\ttrain-rmse:4.179036+0.090994\ttest-rmse:7.579558+1.186487 \n",
      "[59]\ttrain-rmse:4.160489+0.088132\ttest-rmse:7.580828+1.183785 \n",
      "[60]\ttrain-rmse:4.142162+0.087101\ttest-rmse:7.581473+1.183498 \n",
      "[61]\ttrain-rmse:4.127086+0.086924\ttest-rmse:7.578870+1.180707 \n",
      "[62]\ttrain-rmse:4.107086+0.083575\ttest-rmse:7.575678+1.176277 \n",
      "[63]\ttrain-rmse:4.085203+0.087935\ttest-rmse:7.575417+1.177237 \n",
      "[64]\ttrain-rmse:4.063616+0.091067\ttest-rmse:7.571513+1.177571 \n",
      "[65]\ttrain-rmse:4.036340+0.099320\ttest-rmse:7.568849+1.180427 \n",
      "[66]\ttrain-rmse:4.022642+0.096199\ttest-rmse:7.571777+1.180909 \n",
      "[67]\ttrain-rmse:3.995546+0.085961\ttest-rmse:7.570947+1.178680 \n",
      "[68]\ttrain-rmse:3.972080+0.078332\ttest-rmse:7.567878+1.182200 \n",
      "[69]\ttrain-rmse:3.953935+0.080941\ttest-rmse:7.566231+1.182597 \n",
      "[70]\ttrain-rmse:3.939751+0.080341\ttest-rmse:7.563387+1.184398 \n",
      "[71]\ttrain-rmse:3.923201+0.080009\ttest-rmse:7.569412+1.187267 \n",
      "[72]\ttrain-rmse:3.906667+0.079948\ttest-rmse:7.573103+1.188215 \n",
      "[73]\ttrain-rmse:3.883456+0.085437\ttest-rmse:7.574435+1.191124 \n",
      "[74]\ttrain-rmse:3.853457+0.100636\ttest-rmse:7.579235+1.196342 \n",
      "[75]\ttrain-rmse:3.838344+0.106150\ttest-rmse:7.580766+1.196556 \n",
      "[76]\ttrain-rmse:3.815685+0.115072\ttest-rmse:7.582750+1.196262 \n",
      "[77]\ttrain-rmse:3.802418+0.116124\ttest-rmse:7.580775+1.196695 \n",
      "[78]\ttrain-rmse:3.775601+0.112072\ttest-rmse:7.580999+1.191249 \n",
      "[79]\ttrain-rmse:3.762063+0.110930\ttest-rmse:7.582566+1.195052 \n",
      "[80]\ttrain-rmse:3.741209+0.107794\ttest-rmse:7.585365+1.195700 \n",
      "[81]\ttrain-rmse:3.721409+0.103163\ttest-rmse:7.585373+1.195618 \n",
      "[82]\ttrain-rmse:3.702988+0.096388\ttest-rmse:7.589492+1.193344 \n",
      "[83]\ttrain-rmse:3.679932+0.099435\ttest-rmse:7.591112+1.188579 \n",
      "[84]\ttrain-rmse:3.657844+0.102334\ttest-rmse:7.594734+1.182060 \n",
      "[85]\ttrain-rmse:3.639760+0.097984\ttest-rmse:7.598110+1.184225 \n",
      "[86]\ttrain-rmse:3.623999+0.093220\ttest-rmse:7.596136+1.180109 \n",
      "[87]\ttrain-rmse:3.603463+0.095591\ttest-rmse:7.599034+1.185692 \n",
      "[88]\ttrain-rmse:3.579102+0.097676\ttest-rmse:7.597633+1.183711 \n",
      "[89]\ttrain-rmse:3.553638+0.095415\ttest-rmse:7.597239+1.191757 \n",
      "[90]\ttrain-rmse:3.534192+0.091506\ttest-rmse:7.593828+1.195202 \n",
      "[91]\ttrain-rmse:3.515002+0.098079\ttest-rmse:7.595868+1.198845 \n",
      "[92]\ttrain-rmse:3.505411+0.097516\ttest-rmse:7.593619+1.202022 \n",
      "[93]\ttrain-rmse:3.481216+0.088907\ttest-rmse:7.598015+1.197232 \n",
      "[94]\ttrain-rmse:3.457864+0.088607\ttest-rmse:7.602958+1.200669 \n",
      "[95]\ttrain-rmse:3.444348+0.083355\ttest-rmse:7.606311+1.200239 \n",
      "[96]\ttrain-rmse:3.433135+0.077715\ttest-rmse:7.608514+1.200900 \n",
      "[97]\ttrain-rmse:3.402932+0.075890\ttest-rmse:7.609409+1.199859 \n",
      "[98]\ttrain-rmse:3.388652+0.077654\ttest-rmse:7.611392+1.201684 \n",
      "[99]\ttrain-rmse:3.371436+0.077778\ttest-rmse:7.619343+1.205825 \n",
      "[100]\ttrain-rmse:3.357627+0.079369\ttest-rmse:7.614561+1.209221 \n"
     ]
    }
   ],
   "source": [
    "dtrain <- xgb.DMatrix(data.matrix(protein.data.train[,best.features.protein]), label = protein.data.train[,\"Y\"])\n",
    "cv <- xgb.cv(data = dtrain, nrounds = 100, nthread = 4, nfold = 5, metrics = list(\"rmse\"),\n",
    "                  max_depth = 4, eta = 0.2, lambda = 2, alpha=1, objective = \"reg:linear\")"
   ]
  },
  {
   "cell_type": "markdown",
   "metadata": {},
   "source": [
    "As we see, XGBoost may performs well on train data, but overfits fatally on test set "
   ]
  },
  {
   "cell_type": "markdown",
   "metadata": {},
   "source": [
    "#### Cancer data"
   ]
  },
  {
   "cell_type": "markdown",
   "metadata": {},
   "source": [
    "##### Linear regression with lasso"
   ]
  },
  {
   "cell_type": "code",
   "execution_count": 32,
   "metadata": {},
   "outputs": [],
   "source": [
    "fit = cv.glmnet(data.matrix(cancer.data.train[, !names(cancer.data.train) %in% c(\"Y\")]), cancer.data.train$Y, alpha = 1)"
   ]
  },
  {
   "cell_type": "code",
   "execution_count": 33,
   "metadata": {},
   "outputs": [],
   "source": [
    "small.lambda.index <- which(fit$lambda == fit$lambda.min)"
   ]
  },
  {
   "cell_type": "code",
   "execution_count": 34,
   "metadata": {},
   "outputs": [],
   "source": [
    "tmp_coeffs <- coef(fit, s = fit$lambda[small.lambda.index])\n",
    "selected.features <- tmp_coeffs@Dimnames[[1]][tmp_coeffs@i + 1][-1]"
   ]
  },
  {
   "cell_type": "code",
   "execution_count": 37,
   "metadata": {},
   "outputs": [
    {
     "data": {
      "text/html": [
       "<ol class=list-inline>\n",
       "\t<li>'ENSG00000001561'</li>\n",
       "\t<li>'ENSG00000005381'</li>\n",
       "\t<li>'ENSG00000010803'</li>\n",
       "\t<li>'ENSG00000021355'</li>\n",
       "\t<li>'ENSG00000027001'</li>\n",
       "\t<li>'ENSG00000039319'</li>\n",
       "\t<li>'ENSG00000049089'</li>\n",
       "\t<li>'ENSG00000055208'</li>\n",
       "\t<li>'ENSG00000065923'</li>\n",
       "\t<li>'ENSG00000087253'</li>\n",
       "\t<li>'ENSG00000088280'</li>\n",
       "\t<li>'ENSG00000090382'</li>\n",
       "\t<li>'ENSG00000090661'</li>\n",
       "\t<li>'ENSG00000091947'</li>\n",
       "\t<li>'ENSG00000095637'</li>\n",
       "\t<li>'ENSG00000096070'</li>\n",
       "\t<li>'ENSG00000100442'</li>\n",
       "\t<li>'ENSG00000100532'</li>\n",
       "\t<li>'ENSG00000100867'</li>\n",
       "\t<li>'ENSG00000102287'</li>\n",
       "\t<li>'ENSG00000102471'</li>\n",
       "\t<li>'ENSG00000102572'</li>\n",
       "\t<li>'ENSG00000102805'</li>\n",
       "\t<li>'ENSG00000105205'</li>\n",
       "\t<li>'ENSG00000105472'</li>\n",
       "\t<li>'ENSG00000107819'</li>\n",
       "\t<li>'ENSG00000108774'</li>\n",
       "\t<li>'ENSG00000109133'</li>\n",
       "\t<li>'ENSG00000109787'</li>\n",
       "\t<li>'ENSG00000109929'</li>\n",
       "\t<li>'ENSG00000110455'</li>\n",
       "\t<li>'ENSG00000111832'</li>\n",
       "\t<li>'ENSG00000111875'</li>\n",
       "\t<li>'ENSG00000112640'</li>\n",
       "\t<li>'ENSG00000113360'</li>\n",
       "\t<li>'ENSG00000113456'</li>\n",
       "\t<li>'ENSG00000113845'</li>\n",
       "\t<li>'ENSG00000114554'</li>\n",
       "\t<li>'ENSG00000114982'</li>\n",
       "\t<li>'ENSG00000115828'</li>\n",
       "\t<li>'ENSG00000115841'</li>\n",
       "\t<li>'ENSG00000115970'</li>\n",
       "\t<li>'ENSG00000117461'</li>\n",
       "\t<li>'ENSG00000118113'</li>\n",
       "\t<li>'ENSG00000120318'</li>\n",
       "\t<li>'ENSG00000124486'</li>\n",
       "\t<li>'ENSG00000124882'</li>\n",
       "\t<li>'ENSG00000125735'</li>\n",
       "\t<li>'ENSG00000127515'</li>\n",
       "\t<li>'ENSG00000129911'</li>\n",
       "\t<li>'ENSG00000130234'</li>\n",
       "\t<li>'ENSG00000132334'</li>\n",
       "\t<li>'ENSG00000133256'</li>\n",
       "\t<li>'ENSG00000135838'</li>\n",
       "\t<li>'ENSG00000136158'</li>\n",
       "\t<li>'ENSG00000137090'</li>\n",
       "\t<li>'ENSG00000137198'</li>\n",
       "\t<li>'ENSG00000140522'</li>\n",
       "\t<li>'ENSG00000144893'</li>\n",
       "\t<li>'ENSG00000145040'</li>\n",
       "\t<li>'ENSG00000148180'</li>\n",
       "\t<li>'ENSG00000148795'</li>\n",
       "\t<li>'ENSG00000150656'</li>\n",
       "\t<li>'ENSG00000150712'</li>\n",
       "\t<li>'ENSG00000154330'</li>\n",
       "\t<li>'ENSG00000155754'</li>\n",
       "\t<li>'ENSG00000156140'</li>\n",
       "\t<li>'ENSG00000158163'</li>\n",
       "\t<li>'ENSG00000158825'</li>\n",
       "\t<li>'ENSG00000159445'</li>\n",
       "\t<li>'ENSG00000159685'</li>\n",
       "\t<li>'ENSG00000161091'</li>\n",
       "\t<li>'ENSG00000161544'</li>\n",
       "\t<li>'ENSG00000163216'</li>\n",
       "\t<li>'ENSG00000163217'</li>\n",
       "\t<li>'ENSG00000163393'</li>\n",
       "\t<li>'ENSG00000165113'</li>\n",
       "\t<li>'ENSG00000165131'</li>\n",
       "\t<li>'ENSG00000165152'</li>\n",
       "\t<li>'ENSG00000165621'</li>\n",
       "\t<li>'ENSG00000165868'</li>\n",
       "\t<li>'ENSG00000166321'</li>\n",
       "\t<li>'ENSG00000166823'</li>\n",
       "\t<li>'ENSG00000167617'</li>\n",
       "\t<li>'ENSG00000170373'</li>\n",
       "\t<li>'ENSG00000170950'</li>\n",
       "\t<li>'ENSG00000170961'</li>\n",
       "\t<li>'ENSG00000172146'</li>\n",
       "\t<li>'ENSG00000172244'</li>\n",
       "\t<li>'ENSG00000173110'</li>\n",
       "\t<li>'ENSG00000175711'</li>\n",
       "\t<li>'ENSG00000175832'</li>\n",
       "\t<li>'ENSG00000175874'</li>\n",
       "\t<li>'ENSG00000176076'</li>\n",
       "\t<li>'ENSG00000178795'</li>\n",
       "\t<li>'ENSG00000179979'</li>\n",
       "\t<li>'ENSG00000180871'</li>\n",
       "\t<li>'ENSG00000181381'</li>\n",
       "\t<li>'ENSG00000181467'</li>\n",
       "\t<li>'ENSG00000182950'</li>\n",
       "\t<li>'ENSG00000183674'</li>\n",
       "\t<li>'ENSG00000184232'</li>\n",
       "\t<li>'ENSG00000186088'</li>\n",
       "\t<li>'ENSG00000186117'</li>\n",
       "\t<li>'ENSG00000186204'</li>\n",
       "\t<li>'ENSG00000186889'</li>\n",
       "\t<li>'ENSG00000187446'</li>\n",
       "\t<li>'ENSG00000187601'</li>\n",
       "\t<li>'ENSG00000187672'</li>\n",
       "\t<li>'ENSG00000188171'</li>\n",
       "\t<li>'ENSG00000196131'</li>\n",
       "\t<li>'ENSG00000198183'</li>\n",
       "\t<li>'ENSG00000198626'</li>\n",
       "\t<li>'ENSG00000198838'</li>\n",
       "\t<li>'ENSG00000205444'</li>\n",
       "\t<li>'ENSG00000213066'</li>\n",
       "\t<li>'ENSG00000214711'</li>\n",
       "\t<li>'ENSG00000215529'</li>\n",
       "\t<li>'ENSG00000225595'</li>\n",
       "\t<li>'ENSG00000237110'</li>\n",
       "\t<li>'ENSG00000242852'</li>\n",
       "\t<li>'ENSG00000244405'</li>\n",
       "\t<li>'ENSG00000248905'</li>\n",
       "\t<li>'ENSG00000258227'</li>\n",
       "</ol>\n"
      ],
      "text/latex": [
       "\\begin{enumerate*}\n",
       "\\item 'ENSG00000001561'\n",
       "\\item 'ENSG00000005381'\n",
       "\\item 'ENSG00000010803'\n",
       "\\item 'ENSG00000021355'\n",
       "\\item 'ENSG00000027001'\n",
       "\\item 'ENSG00000039319'\n",
       "\\item 'ENSG00000049089'\n",
       "\\item 'ENSG00000055208'\n",
       "\\item 'ENSG00000065923'\n",
       "\\item 'ENSG00000087253'\n",
       "\\item 'ENSG00000088280'\n",
       "\\item 'ENSG00000090382'\n",
       "\\item 'ENSG00000090661'\n",
       "\\item 'ENSG00000091947'\n",
       "\\item 'ENSG00000095637'\n",
       "\\item 'ENSG00000096070'\n",
       "\\item 'ENSG00000100442'\n",
       "\\item 'ENSG00000100532'\n",
       "\\item 'ENSG00000100867'\n",
       "\\item 'ENSG00000102287'\n",
       "\\item 'ENSG00000102471'\n",
       "\\item 'ENSG00000102572'\n",
       "\\item 'ENSG00000102805'\n",
       "\\item 'ENSG00000105205'\n",
       "\\item 'ENSG00000105472'\n",
       "\\item 'ENSG00000107819'\n",
       "\\item 'ENSG00000108774'\n",
       "\\item 'ENSG00000109133'\n",
       "\\item 'ENSG00000109787'\n",
       "\\item 'ENSG00000109929'\n",
       "\\item 'ENSG00000110455'\n",
       "\\item 'ENSG00000111832'\n",
       "\\item 'ENSG00000111875'\n",
       "\\item 'ENSG00000112640'\n",
       "\\item 'ENSG00000113360'\n",
       "\\item 'ENSG00000113456'\n",
       "\\item 'ENSG00000113845'\n",
       "\\item 'ENSG00000114554'\n",
       "\\item 'ENSG00000114982'\n",
       "\\item 'ENSG00000115828'\n",
       "\\item 'ENSG00000115841'\n",
       "\\item 'ENSG00000115970'\n",
       "\\item 'ENSG00000117461'\n",
       "\\item 'ENSG00000118113'\n",
       "\\item 'ENSG00000120318'\n",
       "\\item 'ENSG00000124486'\n",
       "\\item 'ENSG00000124882'\n",
       "\\item 'ENSG00000125735'\n",
       "\\item 'ENSG00000127515'\n",
       "\\item 'ENSG00000129911'\n",
       "\\item 'ENSG00000130234'\n",
       "\\item 'ENSG00000132334'\n",
       "\\item 'ENSG00000133256'\n",
       "\\item 'ENSG00000135838'\n",
       "\\item 'ENSG00000136158'\n",
       "\\item 'ENSG00000137090'\n",
       "\\item 'ENSG00000137198'\n",
       "\\item 'ENSG00000140522'\n",
       "\\item 'ENSG00000144893'\n",
       "\\item 'ENSG00000145040'\n",
       "\\item 'ENSG00000148180'\n",
       "\\item 'ENSG00000148795'\n",
       "\\item 'ENSG00000150656'\n",
       "\\item 'ENSG00000150712'\n",
       "\\item 'ENSG00000154330'\n",
       "\\item 'ENSG00000155754'\n",
       "\\item 'ENSG00000156140'\n",
       "\\item 'ENSG00000158163'\n",
       "\\item 'ENSG00000158825'\n",
       "\\item 'ENSG00000159445'\n",
       "\\item 'ENSG00000159685'\n",
       "\\item 'ENSG00000161091'\n",
       "\\item 'ENSG00000161544'\n",
       "\\item 'ENSG00000163216'\n",
       "\\item 'ENSG00000163217'\n",
       "\\item 'ENSG00000163393'\n",
       "\\item 'ENSG00000165113'\n",
       "\\item 'ENSG00000165131'\n",
       "\\item 'ENSG00000165152'\n",
       "\\item 'ENSG00000165621'\n",
       "\\item 'ENSG00000165868'\n",
       "\\item 'ENSG00000166321'\n",
       "\\item 'ENSG00000166823'\n",
       "\\item 'ENSG00000167617'\n",
       "\\item 'ENSG00000170373'\n",
       "\\item 'ENSG00000170950'\n",
       "\\item 'ENSG00000170961'\n",
       "\\item 'ENSG00000172146'\n",
       "\\item 'ENSG00000172244'\n",
       "\\item 'ENSG00000173110'\n",
       "\\item 'ENSG00000175711'\n",
       "\\item 'ENSG00000175832'\n",
       "\\item 'ENSG00000175874'\n",
       "\\item 'ENSG00000176076'\n",
       "\\item 'ENSG00000178795'\n",
       "\\item 'ENSG00000179979'\n",
       "\\item 'ENSG00000180871'\n",
       "\\item 'ENSG00000181381'\n",
       "\\item 'ENSG00000181467'\n",
       "\\item 'ENSG00000182950'\n",
       "\\item 'ENSG00000183674'\n",
       "\\item 'ENSG00000184232'\n",
       "\\item 'ENSG00000186088'\n",
       "\\item 'ENSG00000186117'\n",
       "\\item 'ENSG00000186204'\n",
       "\\item 'ENSG00000186889'\n",
       "\\item 'ENSG00000187446'\n",
       "\\item 'ENSG00000187601'\n",
       "\\item 'ENSG00000187672'\n",
       "\\item 'ENSG00000188171'\n",
       "\\item 'ENSG00000196131'\n",
       "\\item 'ENSG00000198183'\n",
       "\\item 'ENSG00000198626'\n",
       "\\item 'ENSG00000198838'\n",
       "\\item 'ENSG00000205444'\n",
       "\\item 'ENSG00000213066'\n",
       "\\item 'ENSG00000214711'\n",
       "\\item 'ENSG00000215529'\n",
       "\\item 'ENSG00000225595'\n",
       "\\item 'ENSG00000237110'\n",
       "\\item 'ENSG00000242852'\n",
       "\\item 'ENSG00000244405'\n",
       "\\item 'ENSG00000248905'\n",
       "\\item 'ENSG00000258227'\n",
       "\\end{enumerate*}\n"
      ],
      "text/markdown": [
       "1. 'ENSG00000001561'\n",
       "2. 'ENSG00000005381'\n",
       "3. 'ENSG00000010803'\n",
       "4. 'ENSG00000021355'\n",
       "5. 'ENSG00000027001'\n",
       "6. 'ENSG00000039319'\n",
       "7. 'ENSG00000049089'\n",
       "8. 'ENSG00000055208'\n",
       "9. 'ENSG00000065923'\n",
       "10. 'ENSG00000087253'\n",
       "11. 'ENSG00000088280'\n",
       "12. 'ENSG00000090382'\n",
       "13. 'ENSG00000090661'\n",
       "14. 'ENSG00000091947'\n",
       "15. 'ENSG00000095637'\n",
       "16. 'ENSG00000096070'\n",
       "17. 'ENSG00000100442'\n",
       "18. 'ENSG00000100532'\n",
       "19. 'ENSG00000100867'\n",
       "20. 'ENSG00000102287'\n",
       "21. 'ENSG00000102471'\n",
       "22. 'ENSG00000102572'\n",
       "23. 'ENSG00000102805'\n",
       "24. 'ENSG00000105205'\n",
       "25. 'ENSG00000105472'\n",
       "26. 'ENSG00000107819'\n",
       "27. 'ENSG00000108774'\n",
       "28. 'ENSG00000109133'\n",
       "29. 'ENSG00000109787'\n",
       "30. 'ENSG00000109929'\n",
       "31. 'ENSG00000110455'\n",
       "32. 'ENSG00000111832'\n",
       "33. 'ENSG00000111875'\n",
       "34. 'ENSG00000112640'\n",
       "35. 'ENSG00000113360'\n",
       "36. 'ENSG00000113456'\n",
       "37. 'ENSG00000113845'\n",
       "38. 'ENSG00000114554'\n",
       "39. 'ENSG00000114982'\n",
       "40. 'ENSG00000115828'\n",
       "41. 'ENSG00000115841'\n",
       "42. 'ENSG00000115970'\n",
       "43. 'ENSG00000117461'\n",
       "44. 'ENSG00000118113'\n",
       "45. 'ENSG00000120318'\n",
       "46. 'ENSG00000124486'\n",
       "47. 'ENSG00000124882'\n",
       "48. 'ENSG00000125735'\n",
       "49. 'ENSG00000127515'\n",
       "50. 'ENSG00000129911'\n",
       "51. 'ENSG00000130234'\n",
       "52. 'ENSG00000132334'\n",
       "53. 'ENSG00000133256'\n",
       "54. 'ENSG00000135838'\n",
       "55. 'ENSG00000136158'\n",
       "56. 'ENSG00000137090'\n",
       "57. 'ENSG00000137198'\n",
       "58. 'ENSG00000140522'\n",
       "59. 'ENSG00000144893'\n",
       "60. 'ENSG00000145040'\n",
       "61. 'ENSG00000148180'\n",
       "62. 'ENSG00000148795'\n",
       "63. 'ENSG00000150656'\n",
       "64. 'ENSG00000150712'\n",
       "65. 'ENSG00000154330'\n",
       "66. 'ENSG00000155754'\n",
       "67. 'ENSG00000156140'\n",
       "68. 'ENSG00000158163'\n",
       "69. 'ENSG00000158825'\n",
       "70. 'ENSG00000159445'\n",
       "71. 'ENSG00000159685'\n",
       "72. 'ENSG00000161091'\n",
       "73. 'ENSG00000161544'\n",
       "74. 'ENSG00000163216'\n",
       "75. 'ENSG00000163217'\n",
       "76. 'ENSG00000163393'\n",
       "77. 'ENSG00000165113'\n",
       "78. 'ENSG00000165131'\n",
       "79. 'ENSG00000165152'\n",
       "80. 'ENSG00000165621'\n",
       "81. 'ENSG00000165868'\n",
       "82. 'ENSG00000166321'\n",
       "83. 'ENSG00000166823'\n",
       "84. 'ENSG00000167617'\n",
       "85. 'ENSG00000170373'\n",
       "86. 'ENSG00000170950'\n",
       "87. 'ENSG00000170961'\n",
       "88. 'ENSG00000172146'\n",
       "89. 'ENSG00000172244'\n",
       "90. 'ENSG00000173110'\n",
       "91. 'ENSG00000175711'\n",
       "92. 'ENSG00000175832'\n",
       "93. 'ENSG00000175874'\n",
       "94. 'ENSG00000176076'\n",
       "95. 'ENSG00000178795'\n",
       "96. 'ENSG00000179979'\n",
       "97. 'ENSG00000180871'\n",
       "98. 'ENSG00000181381'\n",
       "99. 'ENSG00000181467'\n",
       "100. 'ENSG00000182950'\n",
       "101. 'ENSG00000183674'\n",
       "102. 'ENSG00000184232'\n",
       "103. 'ENSG00000186088'\n",
       "104. 'ENSG00000186117'\n",
       "105. 'ENSG00000186204'\n",
       "106. 'ENSG00000186889'\n",
       "107. 'ENSG00000187446'\n",
       "108. 'ENSG00000187601'\n",
       "109. 'ENSG00000187672'\n",
       "110. 'ENSG00000188171'\n",
       "111. 'ENSG00000196131'\n",
       "112. 'ENSG00000198183'\n",
       "113. 'ENSG00000198626'\n",
       "114. 'ENSG00000198838'\n",
       "115. 'ENSG00000205444'\n",
       "116. 'ENSG00000213066'\n",
       "117. 'ENSG00000214711'\n",
       "118. 'ENSG00000215529'\n",
       "119. 'ENSG00000225595'\n",
       "120. 'ENSG00000237110'\n",
       "121. 'ENSG00000242852'\n",
       "122. 'ENSG00000244405'\n",
       "123. 'ENSG00000248905'\n",
       "124. 'ENSG00000258227'\n",
       "\n",
       "\n"
      ],
      "text/plain": [
       "  [1] \"ENSG00000001561\" \"ENSG00000005381\" \"ENSG00000010803\" \"ENSG00000021355\"\n",
       "  [5] \"ENSG00000027001\" \"ENSG00000039319\" \"ENSG00000049089\" \"ENSG00000055208\"\n",
       "  [9] \"ENSG00000065923\" \"ENSG00000087253\" \"ENSG00000088280\" \"ENSG00000090382\"\n",
       " [13] \"ENSG00000090661\" \"ENSG00000091947\" \"ENSG00000095637\" \"ENSG00000096070\"\n",
       " [17] \"ENSG00000100442\" \"ENSG00000100532\" \"ENSG00000100867\" \"ENSG00000102287\"\n",
       " [21] \"ENSG00000102471\" \"ENSG00000102572\" \"ENSG00000102805\" \"ENSG00000105205\"\n",
       " [25] \"ENSG00000105472\" \"ENSG00000107819\" \"ENSG00000108774\" \"ENSG00000109133\"\n",
       " [29] \"ENSG00000109787\" \"ENSG00000109929\" \"ENSG00000110455\" \"ENSG00000111832\"\n",
       " [33] \"ENSG00000111875\" \"ENSG00000112640\" \"ENSG00000113360\" \"ENSG00000113456\"\n",
       " [37] \"ENSG00000113845\" \"ENSG00000114554\" \"ENSG00000114982\" \"ENSG00000115828\"\n",
       " [41] \"ENSG00000115841\" \"ENSG00000115970\" \"ENSG00000117461\" \"ENSG00000118113\"\n",
       " [45] \"ENSG00000120318\" \"ENSG00000124486\" \"ENSG00000124882\" \"ENSG00000125735\"\n",
       " [49] \"ENSG00000127515\" \"ENSG00000129911\" \"ENSG00000130234\" \"ENSG00000132334\"\n",
       " [53] \"ENSG00000133256\" \"ENSG00000135838\" \"ENSG00000136158\" \"ENSG00000137090\"\n",
       " [57] \"ENSG00000137198\" \"ENSG00000140522\" \"ENSG00000144893\" \"ENSG00000145040\"\n",
       " [61] \"ENSG00000148180\" \"ENSG00000148795\" \"ENSG00000150656\" \"ENSG00000150712\"\n",
       " [65] \"ENSG00000154330\" \"ENSG00000155754\" \"ENSG00000156140\" \"ENSG00000158163\"\n",
       " [69] \"ENSG00000158825\" \"ENSG00000159445\" \"ENSG00000159685\" \"ENSG00000161091\"\n",
       " [73] \"ENSG00000161544\" \"ENSG00000163216\" \"ENSG00000163217\" \"ENSG00000163393\"\n",
       " [77] \"ENSG00000165113\" \"ENSG00000165131\" \"ENSG00000165152\" \"ENSG00000165621\"\n",
       " [81] \"ENSG00000165868\" \"ENSG00000166321\" \"ENSG00000166823\" \"ENSG00000167617\"\n",
       " [85] \"ENSG00000170373\" \"ENSG00000170950\" \"ENSG00000170961\" \"ENSG00000172146\"\n",
       " [89] \"ENSG00000172244\" \"ENSG00000173110\" \"ENSG00000175711\" \"ENSG00000175832\"\n",
       " [93] \"ENSG00000175874\" \"ENSG00000176076\" \"ENSG00000178795\" \"ENSG00000179979\"\n",
       " [97] \"ENSG00000180871\" \"ENSG00000181381\" \"ENSG00000181467\" \"ENSG00000182950\"\n",
       "[101] \"ENSG00000183674\" \"ENSG00000184232\" \"ENSG00000186088\" \"ENSG00000186117\"\n",
       "[105] \"ENSG00000186204\" \"ENSG00000186889\" \"ENSG00000187446\" \"ENSG00000187601\"\n",
       "[109] \"ENSG00000187672\" \"ENSG00000188171\" \"ENSG00000196131\" \"ENSG00000198183\"\n",
       "[113] \"ENSG00000198626\" \"ENSG00000198838\" \"ENSG00000205444\" \"ENSG00000213066\"\n",
       "[117] \"ENSG00000214711\" \"ENSG00000215529\" \"ENSG00000225595\" \"ENSG00000237110\"\n",
       "[121] \"ENSG00000242852\" \"ENSG00000244405\" \"ENSG00000248905\" \"ENSG00000258227\""
      ]
     },
     "metadata": {},
     "output_type": "display_data"
    }
   ],
   "source": [
    "selected.features"
   ]
  },
  {
   "cell_type": "code",
   "execution_count": 42,
   "metadata": {},
   "outputs": [
    {
     "name": "stdout",
     "output_type": "stream",
     "text": [
      "[1] 0.007093362\n"
     ]
    }
   ],
   "source": [
    "CV(paste(\"Y ~ 1 + \",paste(selected.features, collapse=\"+\"),sep = \"\"), data =  cancer.data.train, model=lm)"
   ]
  },
  {
   "cell_type": "code",
   "execution_count": 88,
   "metadata": {},
   "outputs": [],
   "source": [
    "model <- lm(paste(\"Y ~ 1 + \",paste(selected.features, collapse=\"+\"),sep = \"\"), data =  cancer.data.train)"
   ]
  },
  {
   "cell_type": "code",
   "execution_count": 89,
   "metadata": {},
   "outputs": [
    {
     "data": {
      "text/plain": [
       "\n",
       "Call:\n",
       "lm(formula = paste(\"Y ~ 1 + \", paste(selected.features, collapse = \"+\"), \n",
       "    sep = \"\"), data = cancer.data.train)\n",
       "\n",
       "Residuals:\n",
       "     Min       1Q   Median       3Q      Max \n",
       "-0.38045 -0.05491  0.00658  0.05629  0.20580 \n",
       "\n",
       "Coefficients:\n",
       "                  Estimate Std. Error t value Pr(>|t|)    \n",
       "(Intercept)      1.034e+00  4.485e-01   2.305 0.021598 *  \n",
       "ENSG00000001561  1.696e-05  5.448e-03   0.003 0.997517    \n",
       "ENSG00000005381 -1.894e-02  6.716e-03  -2.820 0.005015 ** \n",
       "ENSG00000010803  1.578e-02  9.719e-03   1.624 0.105102    \n",
       "ENSG00000021355 -3.552e-03  2.640e-03  -1.345 0.179154    \n",
       "ENSG00000027001  4.809e-04  6.094e-03   0.079 0.937141    \n",
       "ENSG00000039319 -1.136e-02  1.344e-02  -0.845 0.398648    \n",
       "ENSG00000049089  1.745e-02  2.190e-02   0.797 0.426052    \n",
       "ENSG00000055208  8.975e-03  9.697e-03   0.925 0.355194    \n",
       "ENSG00000065923  3.010e-03  7.651e-03   0.393 0.694215    \n",
       "ENSG00000087253  8.518e-03  4.433e-03   1.922 0.055270 .  \n",
       "ENSG00000088280  1.427e-02  6.380e-03   2.237 0.025767 *  \n",
       "ENSG00000090382 -1.683e-03  3.397e-03  -0.495 0.620620    \n",
       "ENSG00000090661  7.521e-03  6.029e-03   1.247 0.212921    \n",
       "ENSG00000091947 -3.565e-03  5.132e-03  -0.695 0.487588    \n",
       "ENSG00000095637 -7.344e-03  1.133e-02  -0.648 0.517299    \n",
       "ENSG00000096070 -4.504e-04  9.130e-03  -0.049 0.960678    \n",
       "ENSG00000100442  5.785e-03  8.626e-03   0.671 0.502794    \n",
       "ENSG00000100532  6.675e-03  7.857e-03   0.850 0.396021    \n",
       "ENSG00000100867  7.987e-03  2.757e-03   2.897 0.003952 ** \n",
       "ENSG00000102287 -1.694e-02  1.102e-02  -1.537 0.124870    \n",
       "ENSG00000102471 -6.585e-03  5.543e-03  -1.188 0.235477    \n",
       "ENSG00000102572 -3.785e-03  1.083e-02  -0.349 0.726911    \n",
       "ENSG00000102805  3.672e-03  6.904e-03   0.532 0.595051    \n",
       "ENSG00000105205 -1.354e-03  8.043e-03  -0.168 0.866345    \n",
       "ENSG00000105472 -1.163e-02  5.145e-03  -2.261 0.024209 *  \n",
       "ENSG00000107819  4.201e-03  7.810e-03   0.538 0.590885    \n",
       "ENSG00000108774 -1.518e-02  9.205e-03  -1.649 0.099808 .  \n",
       "ENSG00000109133 -9.022e-03  9.708e-03  -0.929 0.353212    \n",
       "ENSG00000109787 -8.519e-03  9.449e-03  -0.902 0.367732    \n",
       "ENSG00000109929  1.570e-02  5.504e-03   2.853 0.004531 ** \n",
       "ENSG00000110455 -2.923e-02  2.809e-02  -1.040 0.298722    \n",
       "ENSG00000111832  9.258e-03  9.715e-03   0.953 0.341146    \n",
       "ENSG00000111875 -4.737e-03  7.529e-03  -0.629 0.529534    \n",
       "ENSG00000112640  1.399e-02  1.182e-02   1.184 0.236892    \n",
       "ENSG00000113360  2.088e-02  1.293e-02   1.615 0.106967    \n",
       "ENSG00000113456  2.388e-02  9.731e-03   2.454 0.014501 *  \n",
       "ENSG00000113845 -7.768e-03  1.011e-02  -0.768 0.442739    \n",
       "ENSG00000114554 -5.407e-03  1.042e-02  -0.519 0.604210    \n",
       "ENSG00000114982  6.673e-02  2.511e-02   2.658 0.008137 ** \n",
       "ENSG00000115828 -1.416e-03  2.232e-03  -0.634 0.526203    \n",
       "ENSG00000115841 -9.587e-03  1.115e-02  -0.859 0.390530    \n",
       "ENSG00000115970 -2.854e-02  9.539e-03  -2.992 0.002920 ** \n",
       "ENSG00000117461 -7.104e-03  8.864e-03  -0.801 0.423274    \n",
       "ENSG00000118113 -3.203e-02  1.367e-02  -2.343 0.019551 *  \n",
       "ENSG00000120318 -3.051e-02  1.560e-02  -1.955 0.051127 .  \n",
       "ENSG00000124486  1.661e-02  1.145e-02   1.451 0.147552    \n",
       "ENSG00000124882 -5.870e-03  3.877e-03  -1.514 0.130710    \n",
       "ENSG00000125735  1.054e-02  9.023e-03   1.168 0.243236    \n",
       "ENSG00000127515  4.809e-02  3.123e-02   1.540 0.124217    \n",
       "ENSG00000129911 -3.217e-02  1.366e-02  -2.355 0.018928 *  \n",
       "ENSG00000130234 -1.138e-02  6.343e-03  -1.795 0.073357 .  \n",
       "ENSG00000132334 -1.045e-02  5.303e-03  -1.970 0.049438 *  \n",
       "ENSG00000133256  3.770e-03  9.083e-03   0.415 0.678274    \n",
       "ENSG00000135838  4.138e-03  6.414e-03   0.645 0.519119    \n",
       "ENSG00000136158 -1.116e-02  3.468e-03  -3.218 0.001384 ** \n",
       "ENSG00000137090  8.356e-02  3.650e-02   2.290 0.022496 *  \n",
       "ENSG00000137198 -1.056e-02  3.612e-03  -2.925 0.003618 ** \n",
       "ENSG00000140522 -1.183e-02  8.803e-03  -1.344 0.179639    \n",
       "ENSG00000144893  4.980e-02  3.189e-02   1.561 0.119106    \n",
       "ENSG00000145040 -3.363e-03  9.556e-03  -0.352 0.725065    \n",
       "ENSG00000148180 -1.655e-03  3.402e-03  -0.486 0.626899    \n",
       "ENSG00000148795 -4.188e-02  2.049e-02  -2.044 0.041552 *  \n",
       "ENSG00000150656  2.969e-02  9.428e-03   3.149 0.001744 ** \n",
       "ENSG00000150712 -1.041e-02  9.984e-03  -1.042 0.297791    \n",
       "ENSG00000154330  3.464e-02  1.901e-02   1.823 0.068982 .  \n",
       "ENSG00000155754 -2.593e-02  1.276e-02  -2.032 0.042680 *  \n",
       "ENSG00000156140 -2.217e-02  1.090e-02  -2.035 0.042466 *  \n",
       "ENSG00000158163 -1.811e-02  9.556e-03  -1.895 0.058728 .  \n",
       "ENSG00000158825 -8.177e-03  3.787e-03  -2.159 0.031352 *  \n",
       "ENSG00000159445 -3.239e-03  5.655e-03  -0.573 0.567110    \n",
       "ENSG00000159685 -1.083e-02  7.107e-03  -1.524 0.128182    \n",
       "ENSG00000161091  7.993e-03  6.129e-03   1.304 0.192848    \n",
       "ENSG00000161544 -8.071e-03  1.256e-02  -0.642 0.520883    \n",
       "ENSG00000163216 -6.680e-03  6.327e-03  -1.056 0.291622    \n",
       "ENSG00000163217  4.875e-02  1.832e-02   2.660 0.008074 ** \n",
       "ENSG00000163393 -2.739e-02  9.740e-03  -2.812 0.005129 ** \n",
       "ENSG00000165113 -3.352e-03  5.181e-03  -0.647 0.517962    \n",
       "ENSG00000165131  8.740e-02  3.679e-02   2.376 0.017908 *  \n",
       "ENSG00000165152 -4.000e-05  3.284e-03  -0.012 0.990287    \n",
       "ENSG00000165621 -2.493e-02  1.636e-02  -1.524 0.128106    \n",
       "ENSG00000165868 -1.366e-02  1.137e-02  -1.202 0.230075    \n",
       "ENSG00000166321 -9.365e-03  1.266e-02  -0.740 0.459931    \n",
       "ENSG00000166823  5.472e-03  3.848e-03   1.422 0.155682    \n",
       "ENSG00000167617  1.513e-02  5.264e-03   2.875 0.004225 ** \n",
       "ENSG00000170373 -1.553e-02  6.178e-03  -2.513 0.012298 *  \n",
       "ENSG00000170950 -8.548e-02  2.362e-02  -3.620 0.000328 ***\n",
       "ENSG00000170961 -4.287e-03  4.582e-03  -0.936 0.349983    \n",
       "ENSG00000172146  2.871e-02  3.300e-02   0.870 0.384882    \n",
       "ENSG00000172244  6.558e-04  9.014e-03   0.073 0.942034    \n",
       "ENSG00000173110 -8.502e-03  9.719e-03  -0.875 0.382122    \n",
       "ENSG00000175711 -2.719e-03  9.469e-03  -0.287 0.774157    \n",
       "ENSG00000175832  6.723e-03  6.143e-03   1.094 0.274354    \n",
       "ENSG00000175874 -1.402e-02  8.334e-03  -1.682 0.093164 .  \n",
       "ENSG00000176076 -3.474e-02  1.702e-02  -2.041 0.041784 *  \n",
       "ENSG00000178795 -6.966e-02  2.420e-02  -2.879 0.004179 ** \n",
       "ENSG00000179979 -1.505e-02  6.200e-03  -2.428 0.015566 *  \n",
       "ENSG00000180871  2.784e-03  1.982e-02   0.140 0.888337    \n",
       "ENSG00000181381 -3.241e-03  4.133e-03  -0.784 0.433289    \n",
       "ENSG00000181467  1.390e-03  8.039e-03   0.173 0.862809    \n",
       "ENSG00000182950 -3.740e-02  1.839e-02  -2.033 0.042576 *  \n",
       "ENSG00000183674 -2.035e-03  9.269e-03  -0.220 0.826322    \n",
       "ENSG00000184232  1.507e-03  4.371e-03   0.345 0.730486    \n",
       "ENSG00000186088 -1.258e-03  3.979e-03  -0.316 0.752091    \n",
       "ENSG00000186117  6.378e-02  3.303e-02   1.931 0.054063 .  \n",
       "ENSG00000186204 -1.978e-02  8.149e-03  -2.427 0.015584 *  \n",
       "ENSG00000186889  3.883e-03  5.439e-03   0.714 0.475627    \n",
       "ENSG00000187446  3.802e-05  8.484e-03   0.004 0.996427    \n",
       "ENSG00000187601  2.838e-03  3.147e-03   0.902 0.367600    \n",
       "ENSG00000187672  8.661e-03  1.753e-02   0.494 0.621429    \n",
       "ENSG00000188171  7.778e-03  5.464e-03   1.423 0.155277    \n",
       "ENSG00000196131  2.663e-02  2.643e-02   1.007 0.314315    \n",
       "ENSG00000198183  1.983e-02  1.026e-02   1.932 0.054005 .  \n",
       "ENSG00000198626  3.661e-02  1.078e-02   3.398 0.000739 ***\n",
       "ENSG00000198838 -1.656e-02  1.044e-02  -1.587 0.113291    \n",
       "ENSG00000205444 -4.872e-02  1.917e-02  -2.542 0.011345 *  \n",
       "ENSG00000213066  1.260e-02  7.184e-03   1.754 0.080016 .  \n",
       "ENSG00000214711 -1.290e-02  1.424e-02  -0.906 0.365407    \n",
       "ENSG00000215529 -2.370e-02  2.232e-02  -1.062 0.288947    \n",
       "ENSG00000225595  3.442e-02  2.667e-02   1.291 0.197467    \n",
       "ENSG00000237110  5.237e-02  3.357e-02   1.560 0.119478    \n",
       "ENSG00000242852  3.947e-04  5.495e-03   0.072 0.942771    \n",
       "ENSG00000244405 -5.602e-03  4.746e-03  -1.180 0.238416    \n",
       "ENSG00000248905  3.302e-03  1.648e-02   0.200 0.841270    \n",
       "ENSG00000258227 -6.620e-02  2.735e-02  -2.420 0.015901 *  \n",
       "---\n",
       "Signif. codes:  0 ‘***’ 0.001 ‘**’ 0.01 ‘*’ 0.05 ‘.’ 0.1 ‘ ’ 1\n",
       "\n",
       "Residual standard error: 0.09489 on 463 degrees of freedom\n",
       "Multiple R-squared:  0.7972,\tAdjusted R-squared:  0.7429 \n",
       "F-statistic: 14.68 on 124 and 463 DF,  p-value: < 2.2e-16\n"
      ]
     },
     "metadata": {},
     "output_type": "display_data"
    }
   ],
   "source": [
    "summary(model)"
   ]
  },
  {
   "cell_type": "code",
   "execution_count": 139,
   "metadata": {},
   "outputs": [],
   "source": [
    "model <- lm(paste(\"Y ~ 1 + \",paste(selected.features[(summary(model)$coefficients[,4] < 0.75)[-1]], collapse=\"+\"),sep = \"\"), data =  cancer.data.train)"
   ]
  },
  {
   "cell_type": "code",
   "execution_count": 143,
   "metadata": {},
   "outputs": [
    {
     "name": "stdout",
     "output_type": "stream",
     "text": [
      "[1] 0.007776233\n"
     ]
    }
   ],
   "source": [
    "CV(paste(\"Y ~ 1 + \",paste(selected.features[(summary(model)$coefficients[,4] < 0.75)[-1]], collapse=\"+\"),sep = \"\"), data =  cancer.data.train, model=lm)"
   ]
  },
  {
   "cell_type": "markdown",
   "metadata": {},
   "source": [
    "##### PCR with linear regression"
   ]
  },
  {
   "cell_type": "code",
   "execution_count": 150,
   "metadata": {},
   "outputs": [],
   "source": [
    "pcr_model <- pcr(Y~., data = cancer.data.train[,c(selected.features,'Y')], scale = TRUE, validation = \"CV\") # I'm forced to take only a subset of variables because of stack overflow"
   ]
  },
  {
   "cell_type": "code",
   "execution_count": 156,
   "metadata": {},
   "outputs": [
    {
     "data": {
      "image/png": "[encoded data removed]",
      "text/plain": [
       "Plot with title “Y”"
      ]
     },
     "metadata": {},
     "output_type": "display_data"
    }
   ],
   "source": [
    "validationplot(pcr_model, val.type=\"MSEP\")"
   ]
  },
  {
   "cell_type": "code",
   "execution_count": 157,
   "metadata": {},
   "outputs": [
    {
     "data": {
      "image/png": "[encoded data removed]",
      "text/plain": [
       "Plot with title “Y”"
      ]
     },
     "metadata": {},
     "output_type": "display_data"
    }
   ],
   "source": [
    "validationplot(pcr_model, val.type = \"R2\")"
   ]
  },
  {
   "cell_type": "markdown",
   "metadata": {},
   "source": [
    "##### XGBoost"
   ]
  },
  {
   "cell_type": "code",
   "execution_count": 210,
   "metadata": {},
   "outputs": [
    {
     "name": "stdout",
     "output_type": "stream",
     "text": [
      "[1]\ttrain-rmse:0.296343 \n",
      "[2]\ttrain-rmse:0.247918 \n",
      "[3]\ttrain-rmse:0.209511 \n",
      "[4]\ttrain-rmse:0.178922 \n",
      "[5]\ttrain-rmse:0.153549 \n",
      "[6]\ttrain-rmse:0.134065 \n",
      "[7]\ttrain-rmse:0.117401 \n",
      "[8]\ttrain-rmse:0.104807 \n",
      "[9]\ttrain-rmse:0.093778 \n",
      "[10]\ttrain-rmse:0.085120 \n",
      "[11]\ttrain-rmse:0.078758 \n",
      "[12]\ttrain-rmse:0.072711 \n",
      "[13]\ttrain-rmse:0.068180 \n",
      "[14]\ttrain-rmse:0.064158 \n",
      "[15]\ttrain-rmse:0.060501 \n",
      "[16]\ttrain-rmse:0.057103 \n",
      "[17]\ttrain-rmse:0.054107 \n",
      "[18]\ttrain-rmse:0.051496 \n",
      "[19]\ttrain-rmse:0.048939 \n",
      "[20]\ttrain-rmse:0.046724 \n",
      "[21]\ttrain-rmse:0.044850 \n",
      "[22]\ttrain-rmse:0.042987 \n",
      "[23]\ttrain-rmse:0.041353 \n",
      "[24]\ttrain-rmse:0.040044 \n",
      "[25]\ttrain-rmse:0.038507 \n",
      "[26]\ttrain-rmse:0.037220 \n",
      "[27]\ttrain-rmse:0.036082 \n",
      "[28]\ttrain-rmse:0.034912 \n",
      "[29]\ttrain-rmse:0.033821 \n",
      "[30]\ttrain-rmse:0.032815 \n",
      "[31]\ttrain-rmse:0.031896 \n",
      "[32]\ttrain-rmse:0.031080 \n",
      "[33]\ttrain-rmse:0.030207 \n",
      "[34]\ttrain-rmse:0.029579 \n",
      "[35]\ttrain-rmse:0.028747 \n",
      "[36]\ttrain-rmse:0.028138 \n",
      "[37]\ttrain-rmse:0.027528 \n",
      "[38]\ttrain-rmse:0.026901 \n",
      "[39]\ttrain-rmse:0.026336 \n",
      "[40]\ttrain-rmse:0.025837 \n",
      "[41]\ttrain-rmse:0.025345 \n",
      "[42]\ttrain-rmse:0.024850 \n",
      "[43]\ttrain-rmse:0.024335 \n",
      "[44]\ttrain-rmse:0.023928 \n",
      "[45]\ttrain-rmse:0.023928 \n",
      "[46]\ttrain-rmse:0.023928 \n",
      "[47]\ttrain-rmse:0.023928 \n",
      "[48]\ttrain-rmse:0.023928 \n",
      "[49]\ttrain-rmse:0.023928 \n",
      "[50]\ttrain-rmse:0.023928 \n",
      "[51]\ttrain-rmse:0.023928 \n",
      "[52]\ttrain-rmse:0.023928 \n",
      "[53]\ttrain-rmse:0.023928 \n",
      "[54]\ttrain-rmse:0.023928 \n",
      "[55]\ttrain-rmse:0.023928 \n",
      "[56]\ttrain-rmse:0.023928 \n",
      "[57]\ttrain-rmse:0.023928 \n",
      "[58]\ttrain-rmse:0.023928 \n",
      "[59]\ttrain-rmse:0.023928 \n",
      "[60]\ttrain-rmse:0.023928 \n",
      "[61]\ttrain-rmse:0.023928 \n",
      "[62]\ttrain-rmse:0.023928 \n",
      "[63]\ttrain-rmse:0.023928 \n",
      "[64]\ttrain-rmse:0.023928 \n",
      "[65]\ttrain-rmse:0.023928 \n",
      "[66]\ttrain-rmse:0.023928 \n",
      "[67]\ttrain-rmse:0.023928 \n",
      "[68]\ttrain-rmse:0.023928 \n",
      "[69]\ttrain-rmse:0.023928 \n",
      "[70]\ttrain-rmse:0.023928 \n",
      "[71]\ttrain-rmse:0.023928 \n",
      "[72]\ttrain-rmse:0.023928 \n",
      "[73]\ttrain-rmse:0.023928 \n",
      "[74]\ttrain-rmse:0.023928 \n",
      "[75]\ttrain-rmse:0.023928 \n",
      "[76]\ttrain-rmse:0.023928 \n",
      "[77]\ttrain-rmse:0.023928 \n",
      "[78]\ttrain-rmse:0.023928 \n",
      "[79]\ttrain-rmse:0.023928 \n",
      "[80]\ttrain-rmse:0.023928 \n",
      "[81]\ttrain-rmse:0.023928 \n",
      "[82]\ttrain-rmse:0.023928 \n",
      "[83]\ttrain-rmse:0.023928 \n",
      "[84]\ttrain-rmse:0.023928 \n",
      "[85]\ttrain-rmse:0.023928 \n",
      "[86]\ttrain-rmse:0.023928 \n",
      "[87]\ttrain-rmse:0.023928 \n",
      "[88]\ttrain-rmse:0.023928 \n",
      "[89]\ttrain-rmse:0.023928 \n",
      "[90]\ttrain-rmse:0.023928 \n",
      "[91]\ttrain-rmse:0.023928 \n",
      "[92]\ttrain-rmse:0.023928 \n",
      "[93]\ttrain-rmse:0.023928 \n",
      "[94]\ttrain-rmse:0.023928 \n",
      "[95]\ttrain-rmse:0.023928 \n",
      "[96]\ttrain-rmse:0.023928 \n",
      "[97]\ttrain-rmse:0.023928 \n",
      "[98]\ttrain-rmse:0.023928 \n",
      "[99]\ttrain-rmse:0.023928 \n",
      "[100]\ttrain-rmse:0.023928 \n"
     ]
    }
   ],
   "source": [
    "dtrain <- xgb.DMatrix(data.matrix(cancer.data.train[, !names(cancer.data.train) %in% c(\"Y\")]), label = cancer.data.train[,\"Y\"])\n",
    "x <- xgb.importance(model = xgboost(data = dtrain, nrounds = 100, nthread = 4, nfold = 5, metrics = list(\"rmse\"),\n",
    "                  max_depth = 5, eta = 0.2, lambda = 2, alpha=1, objective = \"reg:linear\"))"
   ]
  },
  {
   "cell_type": "code",
   "execution_count": 254,
   "metadata": {},
   "outputs": [],
   "source": [
    "selected.features.for.xgboost <- x[order(Gain, decreasing = T),] [1:100,]$Feature"
   ]
  },
  {
   "cell_type": "code",
   "execution_count": 255,
   "metadata": {},
   "outputs": [
    {
     "name": "stdout",
     "output_type": "stream",
     "text": [
      "[1]\ttrain-rmse:0.298051+0.001427\ttest-rmse:0.300488+0.003860 \n",
      "[2]\ttrain-rmse:0.251528+0.001122\ttest-rmse:0.256936+0.003419 \n",
      "[3]\ttrain-rmse:0.215179+0.001278\ttest-rmse:0.224354+0.001833 \n",
      "[4]\ttrain-rmse:0.186192+0.001257\ttest-rmse:0.200348+0.002044 \n",
      "[5]\ttrain-rmse:0.163231+0.001184\ttest-rmse:0.181171+0.002494 \n",
      "[6]\ttrain-rmse:0.145488+0.001099\ttest-rmse:0.167550+0.003796 \n",
      "[7]\ttrain-rmse:0.131422+0.000967\ttest-rmse:0.156686+0.004998 \n",
      "[8]\ttrain-rmse:0.121076+0.001445\ttest-rmse:0.149131+0.005965 \n",
      "[9]\ttrain-rmse:0.113132+0.000954\ttest-rmse:0.144210+0.006954 \n",
      "[10]\ttrain-rmse:0.106733+0.001312\ttest-rmse:0.139631+0.007505 \n",
      "[11]\ttrain-rmse:0.102462+0.001401\ttest-rmse:0.136921+0.008293 \n",
      "[12]\ttrain-rmse:0.099286+0.001358\ttest-rmse:0.135235+0.008694 \n",
      "[13]\ttrain-rmse:0.096621+0.001443\ttest-rmse:0.133618+0.008705 \n",
      "[14]\ttrain-rmse:0.094703+0.001518\ttest-rmse:0.132331+0.008804 \n",
      "[15]\ttrain-rmse:0.093135+0.000924\ttest-rmse:0.131674+0.009196 \n",
      "[16]\ttrain-rmse:0.092364+0.001350\ttest-rmse:0.131273+0.009387 \n",
      "[17]\ttrain-rmse:0.092188+0.001362\ttest-rmse:0.131144+0.009602 \n",
      "[18]\ttrain-rmse:0.091652+0.001751\ttest-rmse:0.130927+0.009643 \n",
      "[19]\ttrain-rmse:0.091567+0.001760\ttest-rmse:0.130867+0.009782 \n",
      "[20]\ttrain-rmse:0.091509+0.001766\ttest-rmse:0.130826+0.009894 \n",
      "[21]\ttrain-rmse:0.091468+0.001770\ttest-rmse:0.130797+0.009984 \n",
      "[22]\ttrain-rmse:0.091440+0.001773\ttest-rmse:0.130776+0.010056 \n",
      "[23]\ttrain-rmse:0.091419+0.001775\ttest-rmse:0.130761+0.010114 \n",
      "[24]\ttrain-rmse:0.091404+0.001776\ttest-rmse:0.130750+0.010161 \n",
      "[25]\ttrain-rmse:0.091394+0.001777\ttest-rmse:0.130742+0.010198 \n",
      "[26]\ttrain-rmse:0.091385+0.001778\ttest-rmse:0.130736+0.010228 \n",
      "[27]\ttrain-rmse:0.091379+0.001778\ttest-rmse:0.130732+0.010252 \n",
      "[28]\ttrain-rmse:0.091181+0.001907\ttest-rmse:0.130615+0.010242 \n",
      "[29]\ttrain-rmse:0.091177+0.001908\ttest-rmse:0.130613+0.010257 \n",
      "[30]\ttrain-rmse:0.091175+0.001908\ttest-rmse:0.130610+0.010270 \n",
      "[31]\ttrain-rmse:0.091173+0.001908\ttest-rmse:0.130609+0.010280 \n",
      "[32]\ttrain-rmse:0.090965+0.001666\ttest-rmse:0.130437+0.010339 \n",
      "[33]\ttrain-rmse:0.090964+0.001667\ttest-rmse:0.130436+0.010345 \n",
      "[34]\ttrain-rmse:0.090963+0.001667\ttest-rmse:0.130436+0.010350 \n",
      "[35]\ttrain-rmse:0.090962+0.001667\ttest-rmse:0.130435+0.010354 \n",
      "[36]\ttrain-rmse:0.090962+0.001667\ttest-rmse:0.130435+0.010357 \n",
      "[37]\ttrain-rmse:0.090961+0.001667\ttest-rmse:0.130435+0.010360 \n",
      "[38]\ttrain-rmse:0.090961+0.001667\ttest-rmse:0.130435+0.010362 \n",
      "[39]\ttrain-rmse:0.090961+0.001667\ttest-rmse:0.130435+0.010363 \n",
      "[40]\ttrain-rmse:0.090961+0.001667\ttest-rmse:0.130435+0.010365 \n",
      "[41]\ttrain-rmse:0.090960+0.001667\ttest-rmse:0.130435+0.010366 \n",
      "[42]\ttrain-rmse:0.090960+0.001667\ttest-rmse:0.130435+0.010367 \n",
      "[43]\ttrain-rmse:0.090960+0.001667\ttest-rmse:0.130434+0.010367 \n",
      "[44]\ttrain-rmse:0.090960+0.001667\ttest-rmse:0.130434+0.010368 \n",
      "[45]\ttrain-rmse:0.090960+0.001667\ttest-rmse:0.130434+0.010368 \n",
      "[46]\ttrain-rmse:0.090960+0.001668\ttest-rmse:0.130434+0.010368 \n",
      "[47]\ttrain-rmse:0.090960+0.001668\ttest-rmse:0.130434+0.010369 \n",
      "[48]\ttrain-rmse:0.090960+0.001668\ttest-rmse:0.130434+0.010369 \n",
      "[49]\ttrain-rmse:0.090960+0.001668\ttest-rmse:0.130434+0.010369 \n",
      "[50]\ttrain-rmse:0.090960+0.001668\ttest-rmse:0.130434+0.010369 \n",
      "[51]\ttrain-rmse:0.090960+0.001668\ttest-rmse:0.130434+0.010369 \n",
      "[52]\ttrain-rmse:0.090960+0.001668\ttest-rmse:0.130434+0.010369 \n",
      "[53]\ttrain-rmse:0.090960+0.001668\ttest-rmse:0.130434+0.010370 \n",
      "[54]\ttrain-rmse:0.090960+0.001668\ttest-rmse:0.130434+0.010370 \n",
      "[55]\ttrain-rmse:0.090960+0.001668\ttest-rmse:0.130434+0.010370 \n",
      "[56]\ttrain-rmse:0.090960+0.001668\ttest-rmse:0.130434+0.010370 \n",
      "[57]\ttrain-rmse:0.090960+0.001668\ttest-rmse:0.130434+0.010370 \n",
      "[58]\ttrain-rmse:0.090960+0.001668\ttest-rmse:0.130434+0.010370 \n",
      "[59]\ttrain-rmse:0.090960+0.001668\ttest-rmse:0.130434+0.010370 \n",
      "[60]\ttrain-rmse:0.090960+0.001668\ttest-rmse:0.130434+0.010370 \n",
      "[61]\ttrain-rmse:0.090960+0.001668\ttest-rmse:0.130434+0.010370 \n",
      "[62]\ttrain-rmse:0.090960+0.001668\ttest-rmse:0.130434+0.010370 \n",
      "[63]\ttrain-rmse:0.090960+0.001668\ttest-rmse:0.130434+0.010370 \n",
      "[64]\ttrain-rmse:0.090960+0.001668\ttest-rmse:0.130434+0.010370 \n",
      "[65]\ttrain-rmse:0.090960+0.001668\ttest-rmse:0.130434+0.010370 \n",
      "[66]\ttrain-rmse:0.090960+0.001668\ttest-rmse:0.130434+0.010370 \n",
      "[67]\ttrain-rmse:0.090960+0.001668\ttest-rmse:0.130434+0.010370 \n",
      "[68]\ttrain-rmse:0.090960+0.001668\ttest-rmse:0.130434+0.010370 \n",
      "[69]\ttrain-rmse:0.090960+0.001668\ttest-rmse:0.130434+0.010370 \n",
      "[70]\ttrain-rmse:0.090960+0.001668\ttest-rmse:0.130434+0.010370 \n",
      "[71]\ttrain-rmse:0.090960+0.001668\ttest-rmse:0.130434+0.010370 \n",
      "[72]\ttrain-rmse:0.090960+0.001668\ttest-rmse:0.130434+0.010370 \n",
      "[73]\ttrain-rmse:0.090960+0.001668\ttest-rmse:0.130434+0.010370 \n",
      "[74]\ttrain-rmse:0.090960+0.001668\ttest-rmse:0.130434+0.010370 \n",
      "[75]\ttrain-rmse:0.090960+0.001668\ttest-rmse:0.130434+0.010370 \n",
      "[76]\ttrain-rmse:0.090960+0.001668\ttest-rmse:0.130434+0.010370 \n",
      "[77]\ttrain-rmse:0.090960+0.001668\ttest-rmse:0.130434+0.010370 \n",
      "[78]\ttrain-rmse:0.090960+0.001668\ttest-rmse:0.130434+0.010370 \n",
      "[79]\ttrain-rmse:0.090960+0.001668\ttest-rmse:0.130434+0.010370 \n",
      "[80]\ttrain-rmse:0.090960+0.001668\ttest-rmse:0.130434+0.010370 \n",
      "[81]\ttrain-rmse:0.090960+0.001668\ttest-rmse:0.130434+0.010370 \n",
      "[82]\ttrain-rmse:0.090960+0.001668\ttest-rmse:0.130434+0.010370 \n",
      "[83]\ttrain-rmse:0.090960+0.001668\ttest-rmse:0.130434+0.010370 \n",
      "[84]\ttrain-rmse:0.090960+0.001668\ttest-rmse:0.130434+0.010370 \n",
      "[85]\ttrain-rmse:0.090960+0.001668\ttest-rmse:0.130434+0.010370 \n",
      "[86]\ttrain-rmse:0.090960+0.001668\ttest-rmse:0.130434+0.010370 \n",
      "[87]\ttrain-rmse:0.090960+0.001668\ttest-rmse:0.130434+0.010370 \n",
      "[88]\ttrain-rmse:0.090960+0.001668\ttest-rmse:0.130434+0.010370 \n",
      "[89]\ttrain-rmse:0.090960+0.001668\ttest-rmse:0.130434+0.010370 \n",
      "[90]\ttrain-rmse:0.090960+0.001668\ttest-rmse:0.130434+0.010370 \n",
      "[91]\ttrain-rmse:0.090960+0.001668\ttest-rmse:0.130434+0.010370 \n",
      "[92]\ttrain-rmse:0.090960+0.001668\ttest-rmse:0.130434+0.010370 \n",
      "[93]\ttrain-rmse:0.090960+0.001668\ttest-rmse:0.130434+0.010370 \n",
      "[94]\ttrain-rmse:0.090960+0.001668\ttest-rmse:0.130434+0.010370 \n",
      "[95]\ttrain-rmse:0.090960+0.001668\ttest-rmse:0.130434+0.010370 \n",
      "[96]\ttrain-rmse:0.090960+0.001668\ttest-rmse:0.130434+0.010370 \n",
      "[97]\ttrain-rmse:0.090960+0.001668\ttest-rmse:0.130434+0.010370 \n",
      "[98]\ttrain-rmse:0.090960+0.001668\ttest-rmse:0.130434+0.010370 \n",
      "[99]\ttrain-rmse:0.090960+0.001668\ttest-rmse:0.130434+0.010370 \n",
      "[100]\ttrain-rmse:0.090960+0.001668\ttest-rmse:0.130434+0.010370 \n"
     ]
    }
   ],
   "source": [
    "dtrain <- xgb.DMatrix(data.matrix(cancer.data.train[, selected.features.for.xgboost]), label = cancer.data.train[,\"Y\"])\n",
    "cv <- xgb.cv(data = dtrain, nrounds = 100, nthread = 4, nfold = 5, metrics = list(\"rmse\"),\n",
    "                  max_depth = 4, eta = 0.2, lambda = 2, alpha=1, objective = \"reg:linear\", gamma=0.1)"
   ]
  },
  {
   "cell_type": "markdown",
   "metadata": {},
   "source": [
    "### Analyzing most important variables"
   ]
  },
  {
   "cell_type": "markdown",
   "metadata": {},
   "source": [
    "#### Protein"
   ]
  },
  {
   "cell_type": "markdown",
   "metadata": {},
   "source": [
    "##### Vif"
   ]
  },
  {
   "cell_type": "markdown",
   "metadata": {},
   "source": [
    "#### Cancer"
   ]
  },
  {
   "cell_type": "markdown",
   "metadata": {},
   "source": [
    "##### Vif"
   ]
  },
  {
   "cell_type": "markdown",
   "metadata": {},
   "source": [
    "### Saving data"
   ]
  },
  {
   "cell_type": "code",
   "execution_count": null,
   "metadata": {},
   "outputs": [],
   "source": []
  }
 ],
 "metadata": {
  "kernelspec": {
   "display_name": "R",
   "language": "R",
   "name": "ir"
  },
  "language_info": {
   "codemirror_mode": "r",
   "file_extension": ".r",
   "mimetype": "text/x-r-source",
   "name": "R",
   "pygments_lexer": "r",
   "version": "3.6.0"
  }
 },
 "nbformat": 4,
 "nbformat_minor": 2
}
